{
 "cells": [
  {
   "cell_type": "markdown",
   "metadata": {},
   "source": [
    "**Table of contents**<a id='toc0_'></a>    \n",
    "- [Forward Kinematics Using Homogeneous Transformation Matrix](#toc1_)    \n",
    "    - [Starting pybullet](#toc1_1_1_)    \n",
    "    - [Initial Setup for pybullet](#toc1_1_2_)    \n",
    "    - [Generating the Robot Arm](#toc1_1_3_)    \n",
    "    - [Definition of Homogeneous Transformation Matrix in a 2D Plane](#toc1_1_4_)    \n",
    "    - [Executing Forward Kinematics Using Homogeneous Transformation Matrix](#toc1_1_5_)    \n",
    "\n",
    "<!-- vscode-jupyter-toc-config\n",
    "\tnumbering=false\n",
    "\tanchor=true\n",
    "\tflat=false\n",
    "\tminLevel=1\n",
    "\tmaxLevel=6\n",
    "\t/vscode-jupyter-toc-config -->\n",
    "<!-- THIS CELL WILL BE REPLACED ON TOC UPDATE. DO NOT WRITE YOUR TEXT IN THIS CELL -->"
   ]
  },
  {
   "cell_type": "markdown",
   "metadata": {},
   "source": [
    "# <a id='toc1_'></a>[Forward Kinematics Using Homogeneous Transformation Matrix](#toc0_)\n",
    "In this notebook, we will explain the procedure for implementing \"forward kinematics using homogeneous transformation matrices\" with Pybullet using a 2-axis robot arm.\n",
    "\n",
    "(For a manual summarizing the functions available in Pybullet, please refer to [here](https://github.com/bulletphysics/bullet3/blob/master/docs/pybullet_quickstartguide.pdf).)\n",
    "\n",
    "<br>\n",
    "\n",
    "In forward kinematics using homogeneous transformation matrices, as shown in the video below:\n",
    "- Coordinate systems are attached to each link,\n",
    "- By sequentially transforming coordinates from \"Link 1 coordinate system $\\Sigma_{1}$\" to \"Link 2 coordinate system $\\Sigma_{2}$\" to ... to \"End-effector coordinate system $\\Sigma_{\\mathrm{e}}$\",\n",
    "- The position and orientation of the \"End-effector coordinate system $\\Sigma_{\\mathrm{e}}$\" as seen from the \"Link 1 coordinate system $\\Sigma_{1}$\" can be determined.\n",
    "\n",
    "\n",
    "![](../images/RobotArm/robot_arm_homogeneous_matrix_forward_kinematics/overview_en.gif)"
   ]
  },
  {
   "cell_type": "markdown",
   "metadata": {},
   "source": [
    "### <a id='toc1_1_1_'></a>[Starting pybullet](#toc0_)"
   ]
  },
  {
   "cell_type": "code",
   "execution_count": 1,
   "metadata": {},
   "outputs": [
    {
     "name": "stderr",
     "output_type": "stream",
     "text": [
      "pybullet build time: Nov 28 2023 23:45:17\n"
     ]
    },
    {
     "name": "stdout",
     "output_type": "stream",
     "text": [
      "startThreads creating 1 threads.\n",
      "starting thread 0\n",
      "started thread 0 \n",
      "argc=2\n",
      "argv[0] = --unused\n",
      "argv[1] = --start_demo_name=Physics Server\n",
      "ExampleBrowserThreadFunc started\n",
      "X11 functions dynamically loaded using dlopen/dlsym OK!\n",
      "X11 functions dynamically loaded using dlopen/dlsym OK!\n",
      "Creating context\n",
      "Created GL 3.3 context\n",
      "Direct GLX rendering context obtained\n",
      "Making context current\n",
      "GL_VENDOR=Mesa\n",
      "GL_RENDERER=llvmpipe (LLVM 15.0.7, 256 bits)\n",
      "GL_VERSION=4.5 (Core Profile) Mesa 23.2.1-1ubuntu3.1~22.04.2\n",
      "GL_SHADING_LANGUAGE_VERSION=4.50\n",
      "pthread_getconcurrency()=0\n",
      "Version = 4.5 (Core Profile) Mesa 23.2.1-1ubuntu3.1~22.04.2\n",
      "Vendor = Mesa\n",
      "Renderer = llvmpipe (LLVM 15.0.7, 256 bits)\n",
      "b3Printf: Selected demo: Physics Server\n",
      "startThreads creating 1 threads.\n",
      "starting thread 0\n",
      "started thread 0 \n",
      "MotionThreadFunc thread started\n"
     ]
    }
   ],
   "source": [
    "import pybullet\n",
    "import pybullet_data\n",
    "physics_client = pybullet.connect(pybullet.GUI) "
   ]
  },
  {
   "cell_type": "markdown",
   "metadata": {},
   "source": [
    "### <a id='toc1_1_2_'></a>[Initial Setup for pybullet](#toc0_)"
   ]
  },
  {
   "cell_type": "code",
   "execution_count": 2,
   "metadata": {},
   "outputs": [
    {
     "name": "stdout",
     "output_type": "stream",
     "text": [
      "ven = Mesa\n",
      "ven = Mesa\n"
     ]
    }
   ],
   "source": [
    "pybullet.resetSimulation() # Reset the simulation space\n",
    "pybullet.setAdditionalSearchPath(pybullet_data.getDataPath()) # Add path to necessary data for pybullet\n",
    "pybullet.setGravity(0.0, 0.0, -9.8) # Set gravity as on Earth\n",
    "time_step = 1./240.\n",
    "pybullet.setTimeStep(time_step) # Set the elapsed time per step\n",
    "\n",
    "# Load the floor\n",
    "plane_id = pybullet.loadURDF(\"plane.urdf\")\n",
    "\n",
    "# Set the camera position for GUI mode\n",
    "camera_distance = 2.0\n",
    "camera_yaw = 0.0 # deg\n",
    "camera_pitch = -20 # deg\n",
    "camera_target_position = [0.0, 0.0, 0.0]\n",
    "pybullet.resetDebugVisualizerCamera(camera_distance, camera_yaw, camera_pitch, camera_target_position)"
   ]
  },
  {
   "cell_type": "markdown",
   "metadata": {},
   "source": [
    "### <a id='toc1_1_3_'></a>[Generating the Robot Arm](#toc0_)\n",
    "This time, we will generate a 2-axis robot arm `simple_2d_arm.urdf`.  \n",
    "The robot is configured as shown in the figure below (the sensors are explained in `robot_arm_sensor.ipynb`).  \n",
    "\n",
    "![](../images/RobotArm/2d_robot_arm.png)"
   ]
  },
  {
   "cell_type": "code",
   "execution_count": 3,
   "metadata": {},
   "outputs": [
    {
     "name": "stdout",
     "output_type": "stream",
     "text": [
      "b3Printf: b3Warning[examples/Importers/ImportURDFDemo/BulletUrdfImporter.cpp,126]:\n",
      "\n",
      "b3Printf: No inertial data for link, using mass=1, localinertiadiagonal = 1,1,1, identity local inertial frame\n",
      "b3Printf: b3Warning[examples/Importers/ImportURDFDemo/BulletUrdfImporter.cpp,126]:\n",
      "\n",
      "b3Printf: target_position_vertual_link\n"
     ]
    }
   ],
   "source": [
    "# Load the robot\n",
    "arm_start_pos = [0, 0, 0.1]  # Set initial position (x, y, z)\n",
    "arm_start_orientation = pybullet.getQuaternionFromEuler([0, 0, 0])  # Set initial orientation (roll, pitch, yaw)\n",
    "arm_id = pybullet.loadURDF(\"../urdf/simple2d_arm.urdf\", arm_start_pos, arm_start_orientation, useFixedBase=True)  # Fix the root link with useFixedBase=True to prevent the robot from falling\n",
    "\n",
    "# Set the camera position for GUI mode\n",
    "camera_distance = 1.5\n",
    "camera_yaw = 180.0  # deg\n",
    "camera_pitch = -10  # deg\n",
    "camera_target_position = [0.0, 0.0, 1.0]\n",
    "pybullet.resetDebugVisualizerCamera(camera_distance, camera_yaw, camera_pitch, camera_target_position)"
   ]
  },
  {
   "cell_type": "markdown",
   "metadata": {},
   "source": [
    "### <a id='toc1_1_4_'></a>[Definition of Homogeneous Transformation Matrix in a 2D Plane](#toc0_)\n",
    "In a 2D plane robot arm, generally:\n",
    "- The link coordinate system takes the $x$-axis in the direction of the link length.\n",
    "![](../images/RobotArm/robot_arm_homogeneous_matrix_forward_kinematics/2d_robot_arm_link_cordinate_en.png)\n",
    "\n",
    "<br>\n",
    "\n",
    "Therefore, for a robot arm in a 2D plane:\n",
    "1. Rotate around the origin by $\\theta$ (rotation matrix)\n",
    "2. Translate in the $x$-axis direction (link length direction) by the link length $l$ (translation matrix)\n",
    "\n",
    "These steps can be used for coordinate transformation.\n",
    "![](../images/RobotArm/robot_arm_homogeneous_matrix_forward_kinematics/2d_robot_arm_link_homogeneous_matrix_forward_kinematics_en.gif)\n"
   ]
  },
  {
   "cell_type": "markdown",
   "metadata": {},
   "source": [
    "The following code defines the \"rotation matrix `Hz`\" and the \"translation matrix `Hp`\" in a 2D plane. "
   ]
  },
  {
   "cell_type": "code",
   "execution_count": 4,
   "metadata": {},
   "outputs": [],
   "source": [
    "import numpy as np\n",
    "\n",
    "def Hz(theta):\n",
    "    \"\"\"\n",
    "    Calculate the rotation matrix in a 2D plane (rotation around the z-axis in a 2D plane)\n",
    "\n",
    "    Parameters\n",
    "    ----------\n",
    "    theta : float\n",
    "        Rotation angle [rad]\n",
    "\n",
    "    Returns\n",
    "    -------\n",
    "    numpy.ndarray\n",
    "        Rotation matrix\n",
    "    \"\"\"\n",
    "    return np.array([[np.cos(theta), -np.sin(theta), 0], \n",
    "                     [np.sin(theta), np.cos(theta), 0], \n",
    "                     [0, 0, 1]])\n",
    "\n",
    "def Hp(x, y):\n",
    "    \"\"\"\n",
    "    Calculate the translation matrix in a 2D plane\n",
    "\n",
    "    Parameters\n",
    "    ----------\n",
    "    x : float\n",
    "        Translation amount in the x direction\n",
    "    y : float\n",
    "        Translation amount in the y direction\n",
    "\n",
    "    Returns\n",
    "    -------\n",
    "    numpy.ndarray\n",
    "        Translation matrix\n",
    "    \"\"\"\n",
    "    return np.array([[1, 0, x], \n",
    "                     [0, 1, y], \n",
    "                     [0, 0, 1]])"
   ]
  },
  {
   "cell_type": "markdown",
   "metadata": {},
   "source": [
    "By combining the \"rotation matrix `Hz`\" and the \"translation matrix `Hp`\", you can define the \"homogeneous transformation matrix `H`\" that performs both the \"rotation around the origin\" and the \"translation\" simultaneously.\n",
    "\n",
    "**【Python Code Example】**\n",
    "```python\n",
    "H = Hz(theta) @ Hp(LINK_LENGTH, 0) # Create the homogeneous transformation matrix by combining the rotation matrix and the translation matrix\n",
    "```"
   ]
  },
  {
   "cell_type": "markdown",
   "metadata": {},
   "source": [
    "<br>\n",
    "\n",
    "The homogeneous transformation matrix can be combined using the \"chain rule\" to form a single transformation matrix. Specifically, the transformation matrices for:\n",
    "\n",
    "Link 1 coordinate system → Link 2 coordinate system (`H12`)\n",
    "Link 2 coordinate system → End-effector coordinate system (`H2e`)\n",
    "can be combined into a single transformation matrix for Link 1 coordinate system → End-effector coordinate system (`H1e`).\n",
    "\n",
    "**【Python Code Example】**\n",
    "```python\n",
    "H12 = Hz(theta1) @ Hp(LINK1_LENGTH, 0) # Homogeneous transformation matrix from Link 1 coordinate system to Link 2 coordinate system\n",
    "H2e = Hz(theta2) @ Hp(LINK2_LENGTH, 0) # Homogeneous transformation matrix from Link 2 coordinate system to End-effector coordinate system\n",
    "H1e = H12 @ H2e # Homogeneous transformation matrix from Link 1 coordinate system to End-effector coordinate system\n",
    "```\n",
    "\n",
    "\n",
    "![](../images/RobotArm/robot_arm_homogeneous_matrix_forward_kinematics/direct_transformation_en.gif)\n"
   ]
  },
  {
   "cell_type": "markdown",
   "metadata": {},
   "source": [
    "The same principle applies when the number of axes increases. For example:\n",
    "- The homogeneous transformation matrix from **Link 1 coordinate system** to Link 2 coordinate system (`H12`)\n",
    "- The homogeneous transformation matrix from Link 2 coordinate system to Link 3 coordinate system (`H23`)\n",
    "- ...\n",
    "- The homogeneous transformation matrix from Link n coordinate system to **End-effector coordinate system** (`Hne`)\n",
    "\n",
    "can be combined into a single homogeneous transformation matrix from **Link 1 coordinate system** to **End-effector coordinate system** (`H1e`)."
   ]
  },
  {
   "cell_type": "markdown",
   "metadata": {},
   "source": [
    "<br>\n",
    "\n",
    "### <a id='toc1_1_5_'></a>[Executing Forward Kinematics Using Homogeneous Transformation Matrix](#toc0_)\n",
    "\n",
    "By running the following code, the \"forward kinematics of a 2-axis robot arm using the homogeneous transformation matrix\" will be calculated, and the result (the position of the end-effector) will be displayed in pybullet.\n",
    "\n",
    "* Note: The \"position of the end-effector\" displayed on the screen is the coordinate position with the \"base of the robot arm (= link1 coordinate system) as the origin,\" not the position with the pybullet world coordinate system as the origin.\n",
    "\n"
   ]
  },
  {
   "cell_type": "code",
   "execution_count": 11,
   "metadata": {},
   "outputs": [
    {
     "name": "stdout",
     "output_type": "stream",
     "text": [
      "(xe, ye)= 0.15449350228318842 0.9746569660489338\n"
     ]
    },
    {
     "data": {
      "text/plain": [
       "()"
      ]
     },
     "execution_count": 11,
     "metadata": {},
     "output_type": "execute_result"
    }
   ],
   "source": [
    "LINK1_LENGTH = 0.5   # Length of link1 (length in the z direction of link1 in \"simple2d_arm.urdf\")\n",
    "LINK2_LENGTH = 0.55  # Length of link2 (length of link2 + force_sensor_link in \"simple2d_arm.urdf\")\n",
    "\n",
    "# Changing these values will change the result ##########\n",
    "# Define the rotation angles of each link\n",
    "link1_angle_deg = 60\n",
    "link2_angle_deg = 40\n",
    "############################################\n",
    "\n",
    "link1_angle_rad  = np.deg2rad(link1_angle_deg)\n",
    "link2_angle_rad  = np.deg2rad(link2_angle_deg)\n",
    "\n",
    "# Transformation matrix from Link 1 coordinate system to Link 2 coordinate system\n",
    "H12 = Hz(link1_angle_rad) @ Hp(LINK1_LENGTH, 0) # T12: Link \"1\" coordinate system -> Link \"2\" coordinate system\n",
    "# Transformation matrix from Link 2 coordinate system to End-effector coordinate system\n",
    "H2e = Hz(link2_angle_rad) @ Hp(LINK2_LENGTH, 0) # T2e: Link \"2\" coordinate system -> \"e\"nd effector coordinate system\n",
    "\n",
    "# Predefine the homogeneous transformation matrix H12e that transforms from Link 1 coordinate system to End-effector coordinate system\n",
    "H1e = H12 @ H2e # T1e: Link \"1\" coordinate system -> \"e\"nd effector coordinate system\n",
    "\n",
    "x1, y1 = 0, 0 # Origin of Link 1 coordinate system\n",
    "# Using H12e, find the position of the end effector coordinate system as seen from the origin of the Link 1 coordinate system\n",
    "oe = H1e @ np.array([x1, y1, 1])\n",
    "xe, ye = oe[0], oe[1]\n",
    "print(\"(xe, ye)=\", xe, ye)\n",
    "\n",
    "# Display the result on the screen\n",
    "text_position = [0.5, 0.0, 2.0]\n",
    "life_time = 10.0 # Display duration (seconds)\n",
    "pybullet.addUserDebugText(f\"x, y = ({xe:.2f}, {ye:.2f})\", text_position, textSize=2, lifeTime=life_time)\n",
    "\n",
    "# Actually move the joints to verify that the result of forward kinematics is the same\n",
    "pybullet.resetJointState(arm_id, 0, link1_angle_rad)\n",
    "pybullet.resetJointState(arm_id, 1, link2_angle_rad)\n",
    "pybullet.stepSimulation()"
   ]
  }
 ],
 "metadata": {
  "kernelspec": {
   "display_name": "Python 3",
   "language": "python",
   "name": "python3"
  },
  "language_info": {
   "codemirror_mode": {
    "name": "ipython",
    "version": 3
   },
   "file_extension": ".py",
   "mimetype": "text/x-python",
   "name": "python",
   "nbconvert_exporter": "python",
   "pygments_lexer": "ipython3",
   "version": "3.10.12"
  }
 },
 "nbformat": 4,
 "nbformat_minor": 2
}
