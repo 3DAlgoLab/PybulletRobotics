{
 "cells": [
  {
   "cell_type": "markdown",
   "metadata": {},
   "source": [
    "**Table of contents**<a id='toc0_'></a>    \n",
    "- [Forward Kinematics Using Homogeneous Transformation Matrices](#toc1_)    \n",
    "- [Implementation](#toc2_)    \n",
    "    - [Starting pybullet](#toc2_1_1_)    \n",
    "    - [Initial Setup for pybullet](#toc2_1_2_)    \n",
    "    - [Generating the Robot Arm](#toc2_1_3_)    \n",
    "    - [Definition of Homogeneous Transformation in 2D Plane](#toc2_1_4_)    \n",
    "    - [Executing Forward Kinematics Using Homogeneous Transformation Matrices](#toc2_1_5_)    \n",
    "\n",
    "<!-- vscode-jupyter-toc-config\n",
    "\tnumbering=false\n",
    "\tanchor=true\n",
    "\tflat=false\n",
    "\tminLevel=1\n",
    "\tmaxLevel=6\n",
    "\t/vscode-jupyter-toc-config -->\n",
    "<!-- THIS CELL WILL BE REPLACED ON TOC UPDATE. DO NOT WRITE YOUR TEXT IN THIS CELL -->"
   ]
  },
  {
   "cell_type": "markdown",
   "metadata": {},
   "source": [
    "# <a id='toc1_'></a>[Forward Kinematics Using Homogeneous Transformation Matrices](#toc0_)\n",
    "\n",
    "In this notebook, we will explain the procedure to implement \"forward kinematics using homogeneous transformation matrices\" with a 2-axis robot arm in Pybullet.\n",
    "\n",
    "(For a manual summarizing the functions available in pybullet, refer to [this link](https://github.com/bulletphysics/bullet3/blob/master/docs/pybullet_quickstartguide.pdf).)\n",
    "\n",
    "<br>\n",
    "\n",
    "In forward kinematics using homogeneous transformation matrices, as shown in the video below:\n",
    "- Coordinate systems are attached to each link,\n",
    "- By sequentially transforming coordinates from \"Link 1 coordinate system $\\Sigma_{1}$\" to \"Link 2 coordinate system $\\Sigma_{2}$\" to ... to \"End-effector coordinate system $\\Sigma_{\\mathrm{e}}$\",\n",
    "- The position and orientation of the \"End-effector coordinate system $\\Sigma_{\\mathrm{e}}$\" as seen from the \"Link 1 coordinate system $\\Sigma_{1}$\" can be obtained.\n",
    "\n",
    "![](../images/RobotArm/robot_arm_homogeneous_matrix_forward_kinematics/overview_en.gif)"
   ]
  },
  {
   "cell_type": "markdown",
   "metadata": {},
   "source": [
    "# <a id='toc2_'></a>[Implementation](#toc0_)\n",
    "From here, we will actually implement forward kinematics using trigonometric functions for a \"robot arm with 2 rotational joints\" in Pybullet."
   ]
  },
  {
   "cell_type": "markdown",
   "metadata": {},
   "source": [
    "### <a id='toc2_1_1_'></a>[Starting pybullet](#toc0_)"
   ]
  },
  {
   "cell_type": "code",
   "execution_count": 1,
   "metadata": {},
   "outputs": [
    {
     "name": "stderr",
     "output_type": "stream",
     "text": [
      "pybullet build time: Nov 28 2023 23:45:17\n"
     ]
    },
    {
     "name": "stdout",
     "output_type": "stream",
     "text": [
      "startThreads creating 1 threads.\n",
      "starting thread 0\n",
      "started thread 0 \n",
      "argc=2\n",
      "argv[0] = --unused\n",
      "argv[1] = --start_demo_name=Physics Server\n",
      "ExampleBrowserThreadFunc started\n",
      "X11 functions dynamically loaded using dlopen/dlsym OK!\n",
      "X11 functions dynamically loaded using dlopen/dlsym OK!\n",
      "Creating context\n",
      "Created GL 3.3 context\n",
      "Direct GLX rendering context obtained\n",
      "Making context current\n",
      "GL_VENDOR=Mesa\n",
      "GL_RENDERER=llvmpipe (LLVM 15.0.7, 256 bits)\n",
      "GL_VERSION=4.5 (Core Profile) Mesa 23.2.1-1ubuntu3.1~22.04.2\n",
      "GL_SHADING_LANGUAGE_VERSION=4.50\n",
      "pthread_getconcurrency()=0\n",
      "Version = 4.5 (Core Profile) Mesa 23.2.1-1ubuntu3.1~22.04.2\n",
      "Vendor = Mesa\n",
      "Renderer = llvmpipe (LLVM 15.0.7, 256 bits)\n",
      "b3Printf: Selected demo: Physics Server\n",
      "startThreads creating 1 threads.\n",
      "starting thread 0\n",
      "started thread 0 \n",
      "MotionThreadFunc thread started\n"
     ]
    }
   ],
   "source": [
    "import pybullet\n",
    "import pybullet_data\n",
    "physics_client = pybullet.connect(pybullet.GUI) "
   ]
  },
  {
   "cell_type": "markdown",
   "metadata": {},
   "source": [
    "### <a id='toc2_1_2_'></a>[Initial Setup for pybullet](#toc0_)"
   ]
  },
  {
   "cell_type": "code",
   "execution_count": null,
   "metadata": {},
   "outputs": [
    {
     "name": "stdout",
     "output_type": "stream",
     "text": [
      "ven = Mesa\n",
      "ven = Mesa\n"
     ]
    }
   ],
   "source": [
    "pybullet.resetSimulation() # Reset the simulation space\n",
    "pybullet.setAdditionalSearchPath(pybullet_data.getDataPath()) # Add paths to necessary data for pybullet\n",
    "pybullet.setGravity(0.0, 0.0, -9.8) # Set gravity as on Earth\n",
    "time_step = 1./240.\n",
    "pybullet.setTimeStep(time_step) # Set the time elapsed per step\n",
    "\n",
    "# Load the floor\n",
    "plane_id = pybullet.loadURDF(\"plane.urdf\")\n",
    "\n",
    "# Set the camera position and other parameters in GUI mode\n",
    "camera_distance = 2.0\n",
    "camera_yaw = 0.0 # deg\n",
    "camera_pitch = -20 # deg\n",
    "camera_target_position = [0.0, 0.0, 0.0]\n",
    "pybullet.resetDebugVisualizerCamera(camera_distance, camera_yaw, camera_pitch, camera_target_position)"
   ]
  },
  {
   "cell_type": "markdown",
   "metadata": {},
   "source": [
    "### <a id='toc2_1_3_'></a>[Generating the Robot Arm](#toc0_)\n",
    "This time, we will generate a 2-axis robot arm `simple_2d_arm.urdf`.  \n",
    "The robot is configured as shown in the diagram below (sensors are explained in `robot_arm_sensor.ipynb`). \n",
    "\n",
    "![](../images/RobotArm/2d_robot_arm.png)"
   ]
  },
  {
   "cell_type": "code",
   "execution_count": 3,
   "metadata": {},
   "outputs": [
    {
     "name": "stdout",
     "output_type": "stream",
     "text": [
      "b3Printf: b3Warning[examples/Importers/ImportURDFDemo/BulletUrdfImporter.cpp,126]:\n",
      "\n",
      "b3Printf: No inertial data for link, using mass=1, localinertiadiagonal = 1,1,1, identity local inertial frame\n",
      "b3Printf: b3Warning[examples/Importers/ImportURDFDemo/BulletUrdfImporter.cpp,126]:\n",
      "\n",
      "b3Printf: target_position_vertual_link\n"
     ]
    }
   ],
   "source": [
    "# ロボットの読み込み\n",
    "arm_start_pos = [0, 0, 0.1]  # 初期位置(x,y,z)を設定\n",
    "arm_start_orientation = pybullet.getQuaternionFromEuler([0,0,0])  # 初期姿勢(roll, pitch, yaw)を設定\n",
    "arm_id = pybullet.loadURDF(\"../urdf/simple2d_arm.urdf\",arm_start_pos, arm_start_orientation, useFixedBase=True) # ロボットが倒れないように、useFixedBase=Trueでルートのリンクを固定\n",
    "\n",
    "# GUIモードの際のカメラの位置などを設定\n",
    "camera_distance = 1.5\n",
    "camera_yaw = 180.0 # deg\n",
    "camera_pitch = -10 # deg\n",
    "camera_target_position = [0.0, 0.0, 1.0]\n",
    "pybullet.resetDebugVisualizerCamera(camera_distance, camera_yaw, camera_pitch, camera_target_position)"
   ]
  },
  {
   "cell_type": "markdown",
   "metadata": {},
   "source": [
    "### <a id='toc2_1_4_'></a>[Definition of Homogeneous Transformation in 2D Plane](#toc0_)\n",
    "\n"
   ]
  },
  {
   "cell_type": "code",
   "execution_count": 4,
   "metadata": {},
   "outputs": [],
   "source": [
    "import numpy as np\n",
    "\n",
    "def make_homogeneous_transformation_matrix(link_length, theta):\n",
    "    \"\"\"\n",
    "    Calculate the homogeneous transformation matrix in a 2D plane\n",
    "    \n",
    "    Parameters\n",
    "    ----------\n",
    "    link_length : float\n",
    "        Length of the link\n",
    "    theta : float\n",
    "        Rotation angle (rad)\n",
    "\n",
    "    Returns\n",
    "    -------\n",
    "    T : numpy.ndarray\n",
    "        Homogeneous transformation matrix\n",
    "    \"\"\"\n",
    "    return np.array([[np.cos(theta), -np.sin(theta), link_length * np.cos(theta)],\n",
    "                     [np.sin(theta),  np.cos(theta), link_length * np.sin(theta)],\n",
    "                     [            0,              0,                         1]])"
   ]
  },
  {
   "cell_type": "markdown",
   "metadata": {},
   "source": [
    "### <a id='toc2_1_5_'></a>[Executing Forward Kinematics Using Homogeneous Transformation Matrices](#toc0_)\n",
    "\n",
    "Next, by running the code below, forward kinematics will be calculated with the angles set in `link1_angle_deg` and `link2_angle_deg`, and the calculated \"end-effector position\" will be displayed on the screen. (Note that the coordinates are based on the origin at the root of the robot arm (=link1 coordinate system))\n",
    "\n",
    "Also, the angles of each joint will be set to `link1_angle_deg` and `link2_angle_deg`, so please check that the result of the forward kinematics matches the actual position of the end-effector.\n",
    "\n",
    "\n"
   ]
  },
  {
   "cell_type": "code",
   "execution_count": 5,
   "metadata": {},
   "outputs": [
    {
     "name": "stdout",
     "output_type": "stream",
     "text": [
      "(xe, ye)= 0.10764952519361373 0.964271906351207\n"
     ]
    },
    {
     "data": {
      "text/plain": [
       "()"
      ]
     },
     "execution_count": 5,
     "metadata": {},
     "output_type": "execute_result"
    }
   ],
   "source": [
    "LINK1_LENGTH = 0.5   # Length of link1 (length of link1 in \"simple2d_arm.urdf\")\n",
    "LINK2_LENGTH = 0.55  # Length of link2 (length of link2 + force_sensor_link in \"simple2d_arm.urdf\")\n",
    "\n",
    "# Changing these values will change the results ##########\n",
    "# Define the rotation angles of each link\n",
    "link1_angle_deg = 60\n",
    "link2_angle_deg = 45\n",
    "############################################\n",
    "\n",
    "link1_angle_rad  = np.deg2rad(link1_angle_deg)\n",
    "link2_angle_rad  = np.deg2rad(link2_angle_deg)\n",
    "\n",
    "# Transformation matrix from link1 coordinate system to link2 coordinate system\n",
    "H12 = make_homogeneous_transformation_matrix(LINK1_LENGTH, link1_angle_rad ) # T12: link \"1\" coordinate system -> link \"2\" coordinate system\n",
    "# Transformation matrix from link2 coordinate system to end-effector coordinate system\n",
    "H2e = make_homogeneous_transformation_matrix(LINK2_LENGTH, link2_angle_rad ) # T2e: link \"2\" coordinate system -> \"e\"nd effector coordinate system\n",
    "\n",
    "# Predefine the homogeneous transformation matrix H12e that transforms from link1 coordinate system to end-effector coordinate system\n",
    "H12e = H12 @ H2e # T1e: link \"1\" coordinate system -> \"e\"nd effector coordinate system\n",
    "\n",
    "x1, y1 = 0, 0\n",
    "# Use H12e to find the position of the end-effector coordinate system as seen from the link1 coordinate system\n",
    "oe = H12e @ np.array([x1, y1, 1])\n",
    "xe, ye = oe[0], oe[1]\n",
    "print(\"(xe, ye)=\", xe, ye)\n",
    "\n",
    "# Display the result on the screen\n",
    "text_position = [0.5, 0.0, 2.0]\n",
    "life_time = 10.0 # Display duration (seconds)\n",
    "pybullet.addUserDebugText(f\"x, y = ({xe:.2f}, {ye:.2f})\", text_position, textSize=2, lifeTime=life_time)\n",
    "\n",
    "# Actually move the joints and check if the result of the forward kinematics matches\n",
    "pybullet.resetJointState(arm_id, 0, link1_angle_rad )\n",
    "pybullet.resetJointState(arm_id, 1, link2_angle_rad )\n",
    "pybullet.stepSimulation()"
   ]
  }
 ],
 "metadata": {
  "kernelspec": {
   "display_name": "Python 3",
   "language": "python",
   "name": "python3"
  },
  "language_info": {
   "codemirror_mode": {
    "name": "ipython",
    "version": 3
   },
   "file_extension": ".py",
   "mimetype": "text/x-python",
   "name": "python",
   "nbconvert_exporter": "python",
   "pygments_lexer": "ipython3",
   "version": "3.10.12"
  }
 },
 "nbformat": 4,
 "nbformat_minor": 2
}
