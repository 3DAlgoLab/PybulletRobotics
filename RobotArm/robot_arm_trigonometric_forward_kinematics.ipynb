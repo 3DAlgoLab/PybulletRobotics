{
 "cells": [
  {
   "cell_type": "markdown",
   "metadata": {},
   "source": [
    "**Table of contents**<a id='toc0_'></a>    \n",
    "- [三角関数による順運動学](#toc1_)    \n",
    "- [「2軸の回転関節を持ったロボットアーム」における三角関数による順運動学](#toc2_)    \n",
    "  - [理論](#toc2_1_)    \n",
    "    - [リンク1の根本（=原点）からみた時のリンク1の先端位置](#toc2_1_1_)    \n",
    "    - [リンク2の根本からみた時のリンク2の先端位置（=エンドエフェクタの位置）](#toc2_1_2_)    \n",
    "    - [リンク1の根本（=原点）から見た時のエンドエフェクタの位置](#toc2_1_3_)    \n",
    "  - [実装](#toc2_2_)    \n",
    "    - [pybulletの起動](#toc2_2_1_)    \n",
    "    - [pybulletの初期設定](#toc2_2_2_)    \n",
    "    - [ロボットアームの生成](#toc2_2_3_)    \n",
    "    - [三角関数による順運動学の関数の定義](#toc2_2_4_)    \n",
    "    - [三角関数による順運動学の実行](#toc2_2_5_)    \n",
    "\n",
    "<!-- vscode-jupyter-toc-config\n",
    "\tnumbering=false\n",
    "\tanchor=true\n",
    "\tflat=false\n",
    "\tminLevel=1\n",
    "\tmaxLevel=6\n",
    "\t/vscode-jupyter-toc-config -->\n",
    "<!-- THIS CELL WILL BE REPLACED ON TOC UPDATE. DO NOT WRITE YOUR TEXT IN THIS CELL -->"
   ]
  },
  {
   "cell_type": "markdown",
   "metadata": {},
   "source": [
    "# <a id='toc1_'></a>[三角関数による順運動学](#toc0_)\n",
    "\n",
    "本notebookでは、2軸ロボットアームを用いて「三角関数による順運動学」をPybulletで実装する手順について解説します。\n",
    "\n",
    "（pybulletで使用可能な関数がまとめられたマニュアルについては[こちら](https://github.com/bulletphysics/bullet3/blob/master/docs/pybullet_quickstartguide.pdf)を参照してください。）\n",
    "\n",
    "<br>\n",
    "\n",
    "「三角関数により順運動学」では\n",
    "- 「各関節の角度 $\\theta$」「リンクの長さ $l$」\n",
    "\n",
    "から\n",
    "\n",
    "- 「エンドエフェクタの位置 $(x_{\\mathrm{e}}, y_{\\mathrm{e}})$」\n",
    "\n",
    "を求めます。\n",
    "\n",
    "![](../images/RobotArm/robot_arm_trigonometric_forward_kinematics/overview.png)\n",
    "\n"
   ]
  },
  {
   "cell_type": "markdown",
   "metadata": {},
   "source": [
    "# <a id='toc2_'></a>[「2軸の回転関節を持ったロボットアーム」における三角関数による順運動学](#toc0_)\n",
    "\n",
    "ここからは、「2軸の回転関節を持ったロボットアーム」における三角関数による順運動学について理論と実装を解説します。\n",
    "\n",
    "## <a id='toc2_1_'></a>[理論](#toc0_)\n",
    "\n",
    "2軸の回転関節を持ったロボットアームの場合、エンドエフェクタの位置は以下の手順で求められます。\n",
    "\n",
    "一気に「エンドエフェクタの位置 $(x_{\\rm{e}}, y_{\\rm{e}})$」まで求めても良いですが，ここでは\n",
    "1. **リンク1の根本（=原点）からみた時の**リンク1の先端位置 $(x_{\\rm{1\\to 2}}, y_{\\rm{1\\to 2}})$\n",
    "2. **リンク2の根本からみた時の**リンク2の先端位置（=エンドエフェクタの位置） $(x_{\\rm{2\\to e}}, y_{\\rm{2\\to e}})$\n",
    "3. **リンク1の根本（=原点）から見た時の**エンドエフェクタの位置$(x_{\\rm{e}}, y_{\\rm{e}})$\n",
    "\n",
    "の順番で求めていくことにします．\n",
    "\n",
    "![](../images/RobotArm/robot_arm_trigonometric_forward_kinematics/2d_arm_forward_kinematics_overview.png)\n",
    "\n",
    "<br>"
   ]
  },
  {
   "cell_type": "markdown",
   "metadata": {},
   "source": [
    "### <a id='toc2_1_1_'></a>[リンク1の根本（=原点）からみた時のリンク1の先端位置](#toc0_)\n",
    "\n",
    "「**リンク1の根本から見た時の**リンク1の先端位置$(x_{\\rm{1\\to2}},y_{\\rm{1\\to2}})$」は，\n",
    "- リンク1の長さを$L_1$\n",
    "- リンク1の関節角度を$\\theta_1$\n",
    "\n",
    "とした時\n",
    "\n",
    "$$\n",
    "\\begin{align}\n",
    "x_{\\rm{1\\to 2}} &= L_1\\cos(\\theta_1)\\tag{1}\n",
    "\\end{align}\n",
    "$$\n",
    "\n",
    "$$\n",
    "\\begin{align}\n",
    "y_{\\rm{1\\to 2}} &= L_1\\sin(\\theta_1)\\tag{2}\n",
    "\\end{align}\n",
    "$$\n",
    "\n",
    "\n",
    "となります。\n",
    "\n",
    "![](../images/RobotArm/robot_arm_trigonometric_forward_kinematics/step1.png)\n",
    "\n",
    "<br>"
   ]
  },
  {
   "cell_type": "markdown",
   "metadata": {},
   "source": [
    "### <a id='toc2_1_2_'></a>[リンク2の根本からみた時のリンク2の先端位置（=エンドエフェクタの位置）](#toc0_)\n",
    "\n",
    "次に，\n",
    "「**リンク2の根本から見た時の**リンク2の先端位置$(x_{2\\to e}, y_{2\\to e})$」は，\n",
    "- リンク2の長さを$L_2$\n",
    "- 各関節の角度を$\\theta_1, \\theta_2$\n",
    "\n",
    "とした時\n",
    "\n",
    "$$\n",
    "\\begin{align}\n",
    "x_{2\\to e} &= L_2\\cos(\\theta_1+\\theta_2)\n",
    "\\end{align}\n",
    "\\tag{3}\n",
    "$$\n",
    "\n",
    "$$\n",
    "\\begin{align}\n",
    "y_{2\\to e} &= L_2\\sin(\\theta_1+\\theta_2) \n",
    "\\end{align}\n",
    "\\tag{4}\n",
    "$$\n",
    "\n",
    "となります．\n",
    "\n",
    "---\n",
    "\n",
    "---\n",
    "\n",
    "ここで， $(x_{\\rm{2\\to e}}, y_{\\rm{2\\to e}})$ を求める際は，$\\theta_1$も考慮する必要があることに注意してください．\n",
    "\n",
    "---\n",
    "\n",
    "---\n",
    "\n",
    "![](../images/RobotArm/robot_arm_trigonometric_forward_kinematics/step2.png)\n",
    "\n",
    "\n",
    "<br>"
   ]
  },
  {
   "cell_type": "markdown",
   "metadata": {},
   "source": [
    "### <a id='toc2_1_3_'></a>[リンク1の根本（=原点）から見た時のエンドエフェクタの位置](#toc0_)\n",
    "\n",
    "ここまでに求めた位置を足し合わせることで，「**リンク1の根本（=原点）から見た時の**エンドエフェクタの位置$(x_{\\rm{e}}, y_{\\rm{e}})$」を求めることができます．\n",
    "\n",
    "$$\n",
    "\\begin{align}\n",
    "x_{\\rm{e}} &= x_{\\rm{1\\to 2}} + x_{\\rm{2\\to e}} \\tag{5}\n",
    "\\end{align}\n",
    "$$\n",
    "\n",
    "$$\n",
    "\\begin{align}\n",
    "y_{\\rm{e}} &= y_{\\rm{1\\to 2}} + y_{\\rm{2\\to e}} \\tag{6}\n",
    "\\end{align}\n",
    "$$\n",
    "\n",
    "\n",
    "---\n",
    "\n",
    "---\n",
    "\n",
    "多くのロボットアームにおいて，\n",
    "- 「$i$番目のリンクの根本」と「$i+1$番目のリンクの先端」の位置\n",
    "\n",
    "は一致しているため，上記の式のように単純に足し合わせることで**リンク1の根本（=原点）からみた時の**エンドエフェクタの位置を求めることができます．もしも，一致していない場合はそれを考慮する必要があるので注意してください．\n",
    "\n",
    "![](../images/RobotArm/robot_arm_trigonometric_forward_kinematics/note_link_root.png)\n",
    "\n",
    "---\n",
    "\n",
    "---\n",
    "\n",
    "<br>"
   ]
  },
  {
   "cell_type": "markdown",
   "metadata": {},
   "source": [
    "## <a id='toc2_2_'></a>[実装](#toc0_)\n",
    "ここからは、実際にPybulletで「2軸の回転関節を持ったロボットアーム」における三角関数による順運動学を実装していきます。"
   ]
  },
  {
   "cell_type": "markdown",
   "metadata": {},
   "source": [
    "### <a id='toc2_2_1_'></a>[pybulletの起動](#toc0_)"
   ]
  },
  {
   "cell_type": "code",
   "execution_count": 1,
   "metadata": {},
   "outputs": [
    {
     "name": "stderr",
     "output_type": "stream",
     "text": [
      "pybullet build time: Nov 28 2023 23:45:17\n"
     ]
    },
    {
     "name": "stdout",
     "output_type": "stream",
     "text": [
      "startThreads creating 1 threads.\n",
      "starting thread 0\n",
      "started thread 0 \n",
      "argc=2\n",
      "argv[0] = --unused\n",
      "argv[1] = --start_demo_name=Physics Server\n",
      "ExampleBrowserThreadFunc started\n",
      "X11 functions dynamically loaded using dlopen/dlsym OK!\n",
      "X11 functions dynamically loaded using dlopen/dlsym OK!\n",
      "Creating context\n",
      "Created GL 3.3 context\n",
      "Direct GLX rendering context obtained\n",
      "Making context current\n",
      "GL_VENDOR=Mesa\n",
      "GL_RENDERER=llvmpipe (LLVM 15.0.7, 256 bits)\n",
      "GL_VERSION=4.5 (Core Profile) Mesa 23.2.1-1ubuntu3.1~22.04.2\n",
      "GL_SHADING_LANGUAGE_VERSION=4.50\n",
      "pthread_getconcurrency()=0\n",
      "Version = 4.5 (Core Profile) Mesa 23.2.1-1ubuntu3.1~22.04.2\n",
      "Vendor = Mesa\n",
      "Renderer = llvmpipe (LLVM 15.0.7, 256 bits)\n",
      "b3Printf: Selected demo: Physics Server\n",
      "startThreads creating 1 threads.\n",
      "starting thread 0\n",
      "started thread 0 \n",
      "MotionThreadFunc thread started\n"
     ]
    }
   ],
   "source": [
    "import pybullet\n",
    "import pybullet_data\n",
    "physicsClient = pybullet.connect(pybullet.GUI) "
   ]
  },
  {
   "cell_type": "markdown",
   "metadata": {},
   "source": [
    "### <a id='toc2_2_2_'></a>[pybulletの初期設定](#toc0_)"
   ]
  },
  {
   "cell_type": "code",
   "execution_count": 2,
   "metadata": {},
   "outputs": [
    {
     "name": "stdout",
     "output_type": "stream",
     "text": [
      "ven = Mesa\n",
      "ven = Mesa\n"
     ]
    }
   ],
   "source": [
    "pybullet.resetSimulation() # シミュレーション空間をリセット\n",
    "pybullet.setAdditionalSearchPath(pybullet_data.getDataPath()) # pybulletに必要なデータへのパスを追加\n",
    "pybullet.setGravity(0.0, 0.0, -9.8) # 地球上における重力に設定\n",
    "timeStep = 1./240.\n",
    "pybullet.setTimeStep(timeStep) # 1stepあたりに経過する時間の設定\n",
    "\n",
    "#床の読み込み\n",
    "planeId = pybullet.loadURDF(\"plane.urdf\")\n",
    "\n",
    "# GUIモードの際のカメラの位置などを設定\n",
    "cameraDistance = 2.0\n",
    "cameraYaw = 0.0 # deg\n",
    "cameraPitch = -20 # deg\n",
    "cameraTargetPosition = [0.0, 0.0, 0.0]\n",
    "pybullet.resetDebugVisualizerCamera(cameraDistance, cameraYaw, cameraPitch, cameraTargetPosition)"
   ]
  },
  {
   "cell_type": "markdown",
   "metadata": {},
   "source": [
    "### <a id='toc2_2_3_'></a>[ロボットアームの生成](#toc0_)\n",
    "今回は、2軸ロボットアーム`simple_2d_arm.urdf`を生成します。  \n",
    "ロボットは下図のような構成になっています（センサーについては、`robot_arm_sensor.ipynb`にて解説しています。）  \n",
    "\n",
    "![](../images/RobotArm/2d_robot_arm.png)"
   ]
  },
  {
   "cell_type": "code",
   "execution_count": 3,
   "metadata": {},
   "outputs": [
    {
     "name": "stdout",
     "output_type": "stream",
     "text": [
      "b3Printf: b3Warning[examples/Importers/ImportURDFDemo/BulletUrdfImporter.cpp,126]:\n",
      "\n",
      "b3Printf: No inertial data for link, using mass=1, localinertiadiagonal = 1,1,1, identity local inertial frame\n",
      "b3Printf: b3Warning[examples/Importers/ImportURDFDemo/BulletUrdfImporter.cpp,126]:\n",
      "\n",
      "b3Printf: target_position_vertual_link\n"
     ]
    }
   ],
   "source": [
    "# ロボットの読み込み\n",
    "armStartPos = [0, 0, 0.1]  # 初期位置(x,y,z)を設定\n",
    "armStartOrientation = pybullet.getQuaternionFromEuler([0,0,0])  # 初期姿勢(roll, pitch, yaw)を設定\n",
    "armId = pybullet.loadURDF(\"../urdf/simple2d_arm.urdf\",armStartPos, armStartOrientation, useFixedBase=True) # ロボットが倒れないように、useFixedBase=Trueでルートのリンクを固定\n",
    "\n",
    "# GUIモードの際のカメラの位置などを設定\n",
    "cameraDistance = 1.5\n",
    "cameraYaw = 180.0 # deg\n",
    "cameraPitch = -10 # deg\n",
    "cameraTargetPosition = [0.0, 0.0, 1.0]\n",
    "pybullet.resetDebugVisualizerCamera(cameraDistance, cameraYaw, cameraPitch, cameraTargetPosition)"
   ]
  },
  {
   "cell_type": "markdown",
   "metadata": {},
   "source": [
    "### <a id='toc2_2_4_'></a>[三角関数による順運動学の関数の定義](#toc0_)\n",
    "\n",
    "「理論」の章で解説した「三角関数による順運動学」の関数を定義します．\n",
    "\n",
    "今回の場合、式(1)(2)及び、式(3)(4)は以下の関数で実装できます。\n"
   ]
  },
  {
   "cell_type": "code",
   "execution_count": 4,
   "metadata": {},
   "outputs": [],
   "source": [
    "import numpy as np\n",
    "def forward_kinematics2d(linkLength, theta):\n",
    "    \"\"\"\n",
    "    2次元平面における（三角関数による）順運動学を求める\n",
    "    Parameters\n",
    "    ----------\n",
    "    linkLength : float\n",
    "        リンクの長さ\n",
    "    theta : float\n",
    "        回転角度(rad)\n",
    "\n",
    "    Returns\n",
    "    -------\n",
    "    x: リンク先端座標(x)\n",
    "    y: リンク先端座標(y)\n",
    "    \"\"\"\n",
    "    x = linkLength*np.cos(theta)\n",
    "    y = linkLength*np.sin(theta)\n",
    "    return x, y"
   ]
  },
  {
   "cell_type": "markdown",
   "metadata": {},
   "source": [
    "<br>\n",
    "\n",
    "### <a id='toc2_2_5_'></a>[三角関数による順運動学の実行](#toc0_)\n",
    "\n",
    "次に、以下コードを実行すると、「`link1_angle_deg`と`link2_angle_deg`に設定した角度」で順運動学が計算され、計算結果の「エンドエフェクタの位置」が画面上に表示されます。\n",
    "\n",
    "また、各関節の角度が`link1_angle_deg`と`link2_angle_deg`に設定されるので、順運動の結果が実際のエンドエフェクタの位置と一致していることを確認してみてください。\n",
    "\n",
    "\n"
   ]
  },
  {
   "cell_type": "code",
   "execution_count": 6,
   "metadata": {},
   "outputs": [
    {
     "name": "stdout",
     "output_type": "stream",
     "text": [
      "x, y = (0.15801270189221944, 0.7263139720814413)\n"
     ]
    },
    {
     "data": {
      "text/plain": [
       "()"
      ]
     },
     "execution_count": 6,
     "metadata": {},
     "output_type": "execute_result"
    }
   ],
   "source": [
    "import math\n",
    "link1Length = 0.5   # link1の長さ(「simple2d_arm.urdf」のlink1の長さ)\n",
    "link2Length = 0.55  # link2の長さ(「simple2d_arm.urdf」のlink2+force_sensor_linkの長さ)\n",
    "\n",
    "# ここの値を変えると、結果が変わります##########\n",
    "link1AngleDeg = 30\n",
    "link2AngleDeg = 90\n",
    "###############################################\n",
    "\n",
    "link1AngleRad = math.radians(link1AngleDeg)\n",
    "link2AngleRad = math.radians(link2AngleDeg)\n",
    "\n",
    "# 三角関数による順運動学を用いて（初期）手先位置P_currentを計算\n",
    "# link1の根本から見た時の，link1の先端位置\n",
    "x1To2, y1To2 = forward_kinematics2d(link1Length, link1AngleRad)\n",
    "\n",
    "# link2の根本から見た時の，link2の先端位置（=エンドエフェクタの位置）\n",
    "x2ToE, y2ToE = forward_kinematics2d(link2Length, link1AngleRad+link2AngleRad)\n",
    "\n",
    "# link1の根本（原点座標）から見た時の，エンドエフェクタの位置\n",
    "xe = x1To2 + x2ToE\n",
    "ye = y1To2 + y2ToE\n",
    "\n",
    "# ターミナルに結果を表示\n",
    "print(f\"x, y = ({xe}, {ye})\")\n",
    "\n",
    "# 画面上に結果を表示\n",
    "textPosition = [0.5, 0.0, 2.0]\n",
    "lifeTime = 10.0 # 表示期間（秒）\n",
    "pybullet.addUserDebugText(f\"x, y = ({xe:.2f}, {ye:.2f})\", textPosition, textSize=2, lifeTime=lifeTime)\n",
    "\n",
    "# 実際に関節を動かして、順運動学の結果と等しいかを確認\n",
    "pybullet.resetJointState(armId, 0, link1AngleRad)\n",
    "pybullet.resetJointState(armId, 1, link2AngleRad)\n",
    "pybullet.stepSimulation()"
   ]
  }
 ],
 "metadata": {
  "kernelspec": {
   "display_name": "Python 3",
   "language": "python",
   "name": "python3"
  },
  "language_info": {
   "codemirror_mode": {
    "name": "ipython",
    "version": 3
   },
   "file_extension": ".py",
   "mimetype": "text/x-python",
   "name": "python",
   "nbconvert_exporter": "python",
   "pygments_lexer": "ipython3",
   "version": "3.10.12"
  }
 },
 "nbformat": 4,
 "nbformat_minor": 2
}
