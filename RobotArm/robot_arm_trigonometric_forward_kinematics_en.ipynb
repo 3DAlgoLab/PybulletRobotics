{
 "cells": [
  {
   "cell_type": "markdown",
   "metadata": {},
   "source": [
    "**Table of contents**<a id='toc0_'></a>    \n",
    "- [Forward Kinematics Using Trigonometric Functions](#toc1_)    \n",
    "- [Forward Kinematics Using Trigonometric Functions for a \"2-Axis Rotational Joint Robot Arm\"](#toc2_)    \n",
    "    - [Starting pybullet](#toc2_1_1_)    \n",
    "    - [Initial Setup for pybullet](#toc2_1_2_)    \n",
    "    - [Generating the Robot Arm](#toc2_1_3_)    \n",
    "    - [Defining the Function for Forward Kinematics Using Trigonometric Functions](#toc2_1_4_)    \n",
    "    - [Executing Forward Kinematics Using Trigonometric Functions](#toc2_1_5_)    \n",
    "\n",
    "<!-- vscode-jupyter-toc-config\n",
    "\tnumbering=false\n",
    "\tanchor=true\n",
    "\tflat=false\n",
    "\tminLevel=1\n",
    "\tmaxLevel=6\n",
    "\t/vscode-jupyter-toc-config -->\n",
    "<!-- THIS CELL WILL BE REPLACED ON TOC UPDATE. DO NOT WRITE YOUR TEXT IN THIS CELL -->"
   ]
  },
  {
   "cell_type": "markdown",
   "metadata": {},
   "source": [
    "# <a id='toc1_'></a>[Forward Kinematics Using Trigonometric Functions](#toc0_)\n",
    "\n",
    "In this notebook, we will explain the procedure to implement \"forward kinematics using trigonometric functions\" with a 2-axis robot arm in Pybullet.\n",
    "\n",
    "(For a manual summarizing the functions available in pybullet, refer to [this link](https://github.com/bulletphysics/bullet3/blob/master/docs/pybullet_quickstartguide.pdf).)\n"
   ]
  },
  {
   "cell_type": "markdown",
   "metadata": {},
   "source": [
    "# <a id='toc2_'></a>[Forward Kinematics Using Trigonometric Functions for a \"2-Axis Rotational Joint Robot Arm\"](#toc0_)\n",
    "\n",
    "From here, we will explain the theory and implementation of forward kinematics using trigonometric functions for a \"2-axis rotational joint robot arm.\""
   ]
  },
  {
   "cell_type": "markdown",
   "metadata": {},
   "source": [
    "### <a id='toc2_1_1_'></a>[Starting pybullet](#toc0_)"
   ]
  },
  {
   "cell_type": "code",
   "execution_count": 1,
   "metadata": {},
   "outputs": [
    {
     "name": "stderr",
     "output_type": "stream",
     "text": [
      "pybullet build time: Nov 28 2023 23:45:17\n"
     ]
    },
    {
     "name": "stdout",
     "output_type": "stream",
     "text": [
      "startThreads creating 1 threads.\n",
      "starting thread 0\n",
      "started thread 0 \n",
      "argc=2\n",
      "argv[0] = --unused\n",
      "argv[1] = --start_demo_name=Physics Server\n",
      "ExampleBrowserThreadFunc started\n",
      "X11 functions dynamically loaded using dlopen/dlsym OK!\n",
      "X11 functions dynamically loaded using dlopen/dlsym OK!\n",
      "Creating context\n",
      "Created GL 3.3 context\n",
      "Direct GLX rendering context obtained\n",
      "Making context current\n",
      "GL_VENDOR=Mesa\n",
      "GL_RENDERER=llvmpipe (LLVM 15.0.7, 256 bits)\n",
      "GL_VERSION=4.5 (Core Profile) Mesa 23.2.1-1ubuntu3.1~22.04.2\n",
      "GL_SHADING_LANGUAGE_VERSION=4.50\n",
      "pthread_getconcurrency()=0\n",
      "Version = 4.5 (Core Profile) Mesa 23.2.1-1ubuntu3.1~22.04.2\n",
      "Vendor = Mesa\n",
      "Renderer = llvmpipe (LLVM 15.0.7, 256 bits)\n",
      "b3Printf: Selected demo: Physics Server\n",
      "startThreads creating 1 threads.\n",
      "starting thread 0\n",
      "started thread 0 \n",
      "MotionThreadFunc thread started\n"
     ]
    }
   ],
   "source": [
    "import pybullet\n",
    "import pybullet_data\n",
    "physics_client = pybullet.connect(pybullet.GUI) "
   ]
  },
  {
   "cell_type": "markdown",
   "metadata": {},
   "source": [
    "### <a id='toc2_1_2_'></a>[Initial Setup for pybullet](#toc0_)"
   ]
  },
  {
   "cell_type": "code",
   "execution_count": 2,
   "metadata": {},
   "outputs": [
    {
     "name": "stdout",
     "output_type": "stream",
     "text": [
      "ven = Mesa\n",
      "ven = Mesa\n"
     ]
    }
   ],
   "source": [
    "pybullet.resetSimulation() # Reset the simulation space\n",
    "pybullet.setAdditionalSearchPath(pybullet_data.getDataPath()) # Add paths to necessary data for pybullet\n",
    "pybullet.setGravity(0.0, 0.0, -9.8) # Set gravity as on Earth\n",
    "time_step = 1./240.\n",
    "pybullet.setTimeStep(time_step) # Set the elapsed time per step\n",
    "\n",
    "# Load the floor\n",
    "plane_id = pybullet.loadURDF(\"plane.urdf\")\n",
    "\n",
    "# Set the camera position and other parameters in GUI mode\n",
    "camera_distance = 2.0\n",
    "camera_yaw = 0.0 # deg\n",
    "camera_pitch = -20 # deg\n",
    "camera_target_position = [0.0, 0.0, 0.0]\n",
    "pybullet.resetDebugVisualizerCamera(camera_distance, camera_yaw, camera_pitch, camera_target_position)"
   ]
  },
  {
   "cell_type": "markdown",
   "metadata": {},
   "source": [
    "### <a id='toc2_1_3_'></a>[Generating the Robot Arm](#toc0_)\n",
    "This time, we will generate a 2-axis robot arm `simple_2d_arm.urdf`.  \n",
    "The robot is structured as shown in the diagram below (sensors are explained in `robot_arm_sensor.ipynb`). \n",
    "\n",
    "![](../images/RobotArm/2d_robot_arm.png)"
   ]
  },
  {
   "cell_type": "code",
   "execution_count": 3,
   "metadata": {},
   "outputs": [
    {
     "name": "stdout",
     "output_type": "stream",
     "text": [
      "b3Printf: b3Warning[examples/Importers/ImportURDFDemo/BulletUrdfImporter.cpp,126]:\n",
      "\n",
      "b3Printf: No inertial data for link, using mass=1, localinertiadiagonal = 1,1,1, identity local inertial frame\n",
      "b3Printf: b3Warning[examples/Importers/ImportURDFDemo/BulletUrdfImporter.cpp,126]:\n",
      "\n",
      "b3Printf: target_position_vertual_link\n"
     ]
    }
   ],
   "source": [
    "# Load the robot\n",
    "arm_start_pos = [0, 0, 0.1]  # Set the initial position (x, y, z)\n",
    "arm_start_orientation = pybullet.getQuaternionFromEuler([0, 0, 0])  # Set the initial orientation (roll, pitch, yaw)\n",
    "arm_id = pybullet.loadURDF(\"../urdf/simple2d_arm.urdf\", arm_start_pos, arm_start_orientation, useFixedBase=True) # Fix the root link with useFixedBase=True to prevent the robot from falling\n",
    "\n",
    "# Set the camera position and other parameters in GUI mode\n",
    "camera_distance = 1.5\n",
    "camera_yaw = 180.0 # deg\n",
    "camera_pitch = -10 # deg\n",
    "camera_target_position = [0.0, 0.0, 1.0]\n",
    "pybullet.resetDebugVisualizerCamera(camera_distance, camera_yaw, camera_pitch, camera_target_position)"
   ]
  },
  {
   "cell_type": "markdown",
   "metadata": {},
   "source": [
    "### <a id='toc2_1_4_'></a>[Defining the Function for Forward Kinematics Using Trigonometric Functions](#toc0_)\n",
    "We will define the function for \"forward kinematics using trigonometric functions.\"\n"
   ]
  },
  {
   "cell_type": "code",
   "execution_count": 4,
   "metadata": {},
   "outputs": [],
   "source": [
    "import numpy as np\n",
    "\n",
    "def forward_kinematics2d(link_length, theta):\n",
    "    \"\"\"\n",
    "    Calculate forward kinematics (using trigonometric functions) in a 2D plane\n",
    "    Parameters\n",
    "    ----------\n",
    "    link_length : float\n",
    "        Length of the link\n",
    "    theta : float\n",
    "        Rotation angle (rad)\n",
    "\n",
    "    Returns\n",
    "    -------\n",
    "    x: x-coordinate of the link's end\n",
    "    y: y-coordinate of the link's end\n",
    "    \"\"\"\n",
    "    x = link_length * np.cos(theta)\n",
    "    y = link_length * np.sin(theta)\n",
    "    return x, y"
   ]
  },
  {
   "cell_type": "markdown",
   "metadata": {},
   "source": [
    "### <a id='toc2_1_5_'></a>[Executing Forward Kinematics Using Trigonometric Functions](#toc0_)\n",
    "\n",
    "Next, by running the code below, forward kinematics will be calculated using the angles set in `link1_angle_deg` and `link2_angle_deg`, and the calculated \"end-effector position\" will be displayed on the screen. (Note that the origin is based on the root of the robot arm (i.e., the link1 coordinate system).)\n",
    "\n",
    "Additionally, the angles of each joint will be set to `link1_angle_deg` and `link2_angle_deg`, so please verify that the result of the forward kinematics matches the actual position of the end-effector."
   ]
  },
  {
   "cell_type": "code",
   "execution_count": 5,
   "metadata": {},
   "outputs": [
    {
     "name": "stdout",
     "output_type": "stream",
     "text": [
      "x, y = (0.15801270189221944, 0.7263139720814413)\n"
     ]
    },
    {
     "data": {
      "text/plain": [
       "()"
      ]
     },
     "execution_count": 5,
     "metadata": {},
     "output_type": "execute_result"
    },
    {
     "ename": "",
     "evalue": "",
     "output_type": "error",
     "traceback": [
      "\u001b[1;31mThe Kernel crashed while executing code in the current cell or a previous cell. \n",
      "\u001b[1;31mPlease review the code in the cell(s) to identify a possible cause of the failure. \n",
      "\u001b[1;31mClick <a href='https://aka.ms/vscodeJupyterKernelCrash'>here</a> for more info. \n",
      "\u001b[1;31mView Jupyter <a href='command:jupyter.viewOutput'>log</a> for further details."
     ]
    }
   ],
   "source": [
    "import math\n",
    "\n",
    "LINK1_LENGTH = 0.5   # Length of link1 (length of link1 in \"simple2d_arm.urdf\")\n",
    "LINK2_LENGTH = 0.55  # Length of link2 (length of link2 + force_sensor_link in \"simple2d_arm.urdf\")\n",
    "\n",
    "# Change these values to see different results ##########\n",
    "link1_angle_deg = 30\n",
    "link2_angle_deg = 90\n",
    "###############################################\n",
    "\n",
    "link1_angle_rad = math.radians(link1_angle_deg)\n",
    "link2_angle_rad = math.radians(link2_angle_deg)\n",
    "\n",
    "# Calculate the initial end-effector position P_current using forward kinematics with trigonometric functions\n",
    "# Position of the end of link1 when viewed from the root of link1\n",
    "x1_to_2, y1_to_2 = forward_kinematics2d(LINK1_LENGTH, link1_angle_rad)\n",
    "\n",
    "# Position of the end of link2 (i.e., the end-effector position) when viewed from the root of link2\n",
    "x2_to_e, y2_to_e = forward_kinematics2d(LINK2_LENGTH, link1_angle_rad + link2_angle_rad)\n",
    "\n",
    "# Position of the end-effector when viewed from the root of link1 (origin coordinates)\n",
    "xe = x1_to_2 + x2_to_e\n",
    "ye = y1_to_2 + y2_to_e\n",
    "\n",
    "# Display the result in the terminal\n",
    "print(f\"x, y = ({xe}, {ye})\")\n",
    "\n",
    "# Display the result on the screen\n",
    "text_position = [0.5, 0.0, 2.0]\n",
    "life_time = 10.0 # Display duration (seconds)\n",
    "pybullet.addUserDebugText(f\"x, y = ({xe:.2f}, {ye:.2f})\", text_position, textSize=2, lifeTime=life_time)\n",
    "\n",
    "# Move the joints to verify that the result of the forward kinematics matches the actual end-effector position\n",
    "pybullet.resetJointState(arm_id, 0, link1_angle_rad)\n",
    "pybullet.resetJointState(arm_id, 1, link2_angle_rad)\n",
    "pybullet.stepSimulation()"
   ]
  }
 ],
 "metadata": {
  "kernelspec": {
   "display_name": "Python 3",
   "language": "python",
   "name": "python3"
  },
  "language_info": {
   "codemirror_mode": {
    "name": "ipython",
    "version": 3
   },
   "file_extension": ".py",
   "mimetype": "text/x-python",
   "name": "python",
   "nbconvert_exporter": "python",
   "pygments_lexer": "ipython3",
   "version": "3.10.12"
  }
 },
 "nbformat": 4,
 "nbformat_minor": 2
}
