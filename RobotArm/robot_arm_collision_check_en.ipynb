{
 "cells": [
  {
   "cell_type": "markdown",
   "metadata": {},
   "source": [
    "**Table of contents**<a id='toc0_'></a>    \n",
    "- [Robot Arm collision check](#toc1_)    \n",
    "- [Starting pybullet](#toc2_)    \n",
    "- [Initial Setup](#toc3_)    \n",
    "- [Function Definitions](#toc4_)    \n",
    "- [Running the Simulation](#toc5_)    \n",
    "\n",
    "<!-- vscode-jupyter-toc-config\n",
    "\tnumbering=false\n",
    "\tanchor=true\n",
    "\tflat=false\n",
    "\tminLevel=1\n",
    "\tmaxLevel=6\n",
    "\t/vscode-jupyter-toc-config -->\n",
    "<!-- THIS CELL WILL BE REPLACED ON TOC UPDATE. DO NOT WRITE YOUR TEXT IN THIS CELL -->"
   ]
  },
  {
   "cell_type": "markdown",
   "metadata": {},
   "source": [
    "# <a id='toc1_'></a>[Robot Arm collision check](#toc0_)\n",
    "\n",
    "In this notebook, we will introduce how to perform collision detection between a \"2-axis robot arm\" and an \"object\".\n",
    "\n",
    "(For a manual summarizing the functions available in pybullet, refer to [this link](https://github.com/bulletphysics/bullet3/blob/master/docs/pybullet_quickstartguide.pdf).)"
   ]
  },
  {
   "cell_type": "markdown",
   "metadata": {},
   "source": [
    "# <a id='toc2_'></a>[Starting pybullet](#toc0_)"
   ]
  },
  {
   "cell_type": "code",
   "execution_count": 1,
   "metadata": {},
   "outputs": [
    {
     "name": "stderr",
     "output_type": "stream",
     "text": [
      "pybullet build time: Nov 28 2023 23:45:17\n"
     ]
    },
    {
     "name": "stdout",
     "output_type": "stream",
     "text": [
      "startThreads creating 1 threads.\n",
      "starting thread 0\n",
      "started thread 0 \n",
      "argc=2\n",
      "argv[0] = --unused\n",
      "argv[1] = --start_demo_name=Physics Server\n",
      "ExampleBrowserThreadFunc started\n",
      "X11 functions dynamically loaded using dlopen/dlsym OK!\n",
      "X11 functions dynamically loaded using dlopen/dlsym OK!\n",
      "Creating context\n",
      "Created GL 3.3 context\n",
      "Direct GLX rendering context obtained\n",
      "Making context current\n",
      "GL_VENDOR=Mesa\n",
      "GL_RENDERER=llvmpipe (LLVM 15.0.7, 256 bits)\n",
      "GL_VERSION=4.5 (Core Profile) Mesa 23.2.1-1ubuntu3.1~22.04.2\n",
      "GL_SHADING_LANGUAGE_VERSION=4.50\n",
      "pthread_getconcurrency()=0\n",
      "Version = 4.5 (Core Profile) Mesa 23.2.1-1ubuntu3.1~22.04.2\n",
      "Vendor = Mesa\n",
      "Renderer = llvmpipe (LLVM 15.0.7, 256 bits)\n",
      "b3Printf: Selected demo: Physics Server\n",
      "startThreads creating 1 threads.\n",
      "starting thread 0\n",
      "started thread 0 \n",
      "MotionThreadFunc thread started\n"
     ]
    }
   ],
   "source": [
    "import pybullet\n",
    "import pybullet_data\n",
    "physics_client = pybullet.connect(pybullet.GUI) "
   ]
  },
  {
   "cell_type": "markdown",
   "metadata": {},
   "source": [
    "# <a id='toc3_'></a>[Initial Setup](#toc0_)\n",
    "We will perform initial setup such as creating the floor, generating box objects, creating the robot, and setting the camera position."
   ]
  },
  {
   "cell_type": "code",
   "execution_count": 2,
   "metadata": {},
   "outputs": [
    {
     "name": "stdout",
     "output_type": "stream",
     "text": [
      "ven = Mesa\n",
      "ven = Mesa\n",
      "b3Printf: b3Warning[examples/Importers/ImportURDFDemo/BulletUrdfImporter.cpp,126]:\n",
      "\n",
      "b3Printf: No inertial data for link, using mass=1, localinertiadiagonal = 1,1,1, identity local inertial frame\n",
      "b3Printf: b3Warning[examples/Importers/ImportURDFDemo/BulletUrdfImporter.cpp,126]:\n",
      "\n",
      "b3Printf: target_position_vertual_link\n"
     ]
    }
   ],
   "source": [
    "pybullet.resetSimulation() # Reset the simulation space\n",
    "pybullet.setAdditionalSearchPath(pybullet_data.getDataPath()) # Add paths to necessary data for pybullet\n",
    "pybullet.setGravity(0.0, 0.0, -9.8) # Set gravity as on Earth\n",
    "time_step = 1./240.\n",
    "pybullet.setTimeStep(time_step) # Set the time elapsed per step\n",
    "\n",
    "# Load the floor\n",
    "plane_id = pybullet.loadURDF(\"plane.urdf\")\n",
    "\n",
    "# Set the camera position and other parameters in GUI mode\n",
    "camera_distance = 2.0\n",
    "camera_yaw = 0.0 # deg\n",
    "camera_pitch = -20 # deg\n",
    "camera_target_position = [0.0, 0.0, 0.0]\n",
    "pybullet.resetDebugVisualizerCamera(camera_distance, camera_yaw, camera_pitch, camera_target_position)\n",
    "\n",
    "# Load the robot\n",
    "arm_start_pos = [0, 0, 0.1]  # Set the initial position (x, y, z)\n",
    "arm_start_orientation = pybullet.getQuaternionFromEuler([0, 0, 0])  # Set the initial orientation (roll, pitch, yaw)\n",
    "arm_id = pybullet.loadURDF(\"../urdf/simple2d_arm.urdf\", arm_start_pos, arm_start_orientation, useFixedBase=True) # Fix the root link with useFixedBase=True to prevent the robot from falling\n",
    "\n",
    "# Set the camera position and other parameters in GUI mode\n",
    "camera_distance = 1.5\n",
    "camera_yaw = 180.0 # deg\n",
    "camera_pitch = -10 # deg\n",
    "camera_target_position = [0.0, 0.0, 1.0]\n",
    "pybullet.resetDebugVisualizerCamera(camera_distance, camera_yaw, camera_pitch, camera_target_position)\n",
    "\n",
    "# Load the box\n",
    "## Determine the weight, size, position, and orientation of the box\n",
    "mass = 5 # kg\n",
    "box_size = [0.3, 0.6, 0.5]\n",
    "position = [0.8, 0, 0.5]\n",
    "orientation = [1, 0, 0, 0] # Quaternion\n",
    "box_collision_id = pybullet.createCollisionShape(pybullet.GEOM_BOX, halfExtents=box_size)\n",
    "box_visual_id = pybullet.createVisualShape(pybullet.GEOM_BOX, halfExtents=box_size, rgbaColor=[1,0,0,1]) # Red, semi-transparent\n",
    "box_body_id = pybullet.createMultiBody(mass, box_collision_id, box_visual_id, position, orientation)"
   ]
  },
  {
   "cell_type": "markdown",
   "metadata": {},
   "source": [
    "# <a id='toc4_'></a>[Function Definitions](#toc0_)\n",
    "We will define the following functions necessary for enabling/disabling collisions between objects.\n",
    "- `GetNumLinks`: Get the number of links of the specified object\n",
    "- `EnableCollisionBetweenObjects`: Enable/disable collision between two objects\n",
    "- `JudgeContact`: Determine whether two objects are in contact"
   ]
  },
  {
   "cell_type": "code",
   "execution_count": 3,
   "metadata": {},
   "outputs": [],
   "source": [
    "def get_num_links(objId):\n",
    "    \"\"\"\n",
    "    Get the number of links of the specified object.\n",
    "    Parameters\n",
    "    ----------\n",
    "    objId : int\n",
    "        Index of the object.\n",
    "        \n",
    "    Returns\n",
    "    -------\n",
    "    linkNum : int\n",
    "        Number of links of the object.\n",
    "    \"\"\"\n",
    "    current_link_idx = 0\n",
    "    link_num = 0\n",
    "    while True:\n",
    "        result = pybullet.getLinkState(objId, current_link_idx)\n",
    "        if result is None:\n",
    "            link_num = current_link_idx + 1\n",
    "            break\n",
    "        current_link_idx += 1\n",
    "    return link_num\n",
    "\n",
    "def enable_collision_between_objects(obj1_id, obj2_id, enable):\n",
    "    \"\"\"\n",
    "    Enable/disable collision between the specified objects.\n",
    "    Parameters\n",
    "    ----------\n",
    "    obj1_id : int\n",
    "        Index of the first object.\n",
    "    obj2_id : int\n",
    "        Index of the second object.\n",
    "    enable : bool\n",
    "        True to enable collision detection, False to disable it.\n",
    "\n",
    "    Returns\n",
    "    -------\n",
    "    None\n",
    "    \"\"\"\n",
    "    # Get the number of links of each object\n",
    "    obj1_link_num = get_num_links(obj1_id)\n",
    "    obj2_link_num = get_num_links(obj2_id)\n",
    "\n",
    "    # Set collision detection to enable/disable\n",
    "    for obj1_link_idx in range(-1, obj1_link_num):\n",
    "        for obj2_link_idx in range(-1, obj2_link_num):\n",
    "            pybullet.setCollisionFilterPair(obj1_id, obj2_id, obj1_link_idx, obj2_link_idx, enable)\n",
    "\n",
    "def judge_collision(obj1_id, obj2_id):\n",
    "    \"\"\"\n",
    "    Determine whether two objects are in contact.\n",
    "    Parameters\n",
    "    ----------\n",
    "    obj1_id : int\n",
    "        Index of the first object.\n",
    "    obj2_id : int\n",
    "        Index of the second object.\n",
    "\n",
    "    Returns\n",
    "    -------\n",
    "    isCollision : bool\n",
    "        True if the two objects are in contact, False otherwise.\n",
    "    \"\"\"\n",
    "    # Get contact information between the two objects\n",
    "    pts = pybullet.getClosestPoints(obj1_id, obj2_id, distance=100)\n",
    "\n",
    "    # Determine whether the two objects are in contact\n",
    "    is_collision = False\n",
    "    for pt in pts:\n",
    "        distance = pt[8]\n",
    "        # Determine whether there are points in contact between the two objects (i.e., points with a distance less than 0)\n",
    "        if distance < 0.0:\n",
    "            is_collision = True\n",
    "            break\n",
    "    \n",
    "    return is_collision"
   ]
  },
  {
   "cell_type": "markdown",
   "metadata": {},
   "source": [
    "# <a id='toc5_'></a>[Running the Simulation](#toc0_)\n",
    "Move the robot arm and perform collision detection with the object.\n",
    "\n",
    "When you run the code below, you can control the robot arm with the mouse in the GUI screen. If the robot arm touches the box, \"collision\" will be displayed on the screen."
   ]
  },
  {
   "cell_type": "code",
   "execution_count": 4,
   "metadata": {},
   "outputs": [],
   "source": [
    "import time\n",
    "\n",
    "pybullet.setRealTimeSimulation(1) # Enable real-time simulation (allows objects to be manipulated with the mouse in the GUI screen)\n",
    "\n",
    "# Disable collision detection between the robot arm and the box\n",
    "enable_collision_between_objects(arm_id, box_body_id, False)\n",
    "\n",
    "# Display whether the robot arm and the box are colliding on the screen\n",
    "while (pybullet.isConnected()):\n",
    "\n",
    "    # Determine whether the robot arm and the box are colliding\n",
    "    is_collision = judge_collision(arm_id, box_body_id)\n",
    "\n",
    "    # If they are colliding, display it on the screen\n",
    "    if is_collision:\n",
    "        pybullet.addUserDebugText(\"collision\", [0.5, 0.0, 1.5], textSize=5, lifeTime=0.1, textColorRGB=[1,0,0])\n",
    "    \n",
    "    time.sleep(time_step)"
   ]
  }
 ],
 "metadata": {
  "kernelspec": {
   "display_name": "Python 3",
   "language": "python",
   "name": "python3"
  },
  "language_info": {
   "codemirror_mode": {
    "name": "ipython",
    "version": 3
   },
   "file_extension": ".py",
   "mimetype": "text/x-python",
   "name": "python",
   "nbconvert_exporter": "python",
   "pygments_lexer": "ipython3",
   "version": "3.10.12"
  }
 },
 "nbformat": 4,
 "nbformat_minor": 2
}
