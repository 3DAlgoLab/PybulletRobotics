{
 "cells": [
  {
   "cell_type": "markdown",
   "metadata": {},
   "source": [
    "**Table of contents**<a id='toc0_'></a>    \n",
    "- [同次変換行列を用いた順運動学](#toc1_)    \n",
    "    - [pybulletの起動](#toc1_1_1_)    \n",
    "    - [pybulletの初期設定](#toc1_1_2_)    \n",
    "    - [ロボットアームの生成](#toc1_1_3_)    \n",
    "    - [2次元平面における同次変換の定義](#toc1_1_4_)    \n",
    "    - [同次変換行列による順運動学の実行](#toc1_1_5_)    \n",
    "\n",
    "<!-- vscode-jupyter-toc-config\n",
    "\tnumbering=false\n",
    "\tanchor=true\n",
    "\tflat=false\n",
    "\tminLevel=1\n",
    "\tmaxLevel=6\n",
    "\t/vscode-jupyter-toc-config -->\n",
    "<!-- THIS CELL WILL BE REPLACED ON TOC UPDATE. DO NOT WRITE YOUR TEXT IN THIS CELL -->"
   ]
  },
  {
   "cell_type": "markdown",
   "metadata": {},
   "source": [
    "# <a id='toc1_'></a>[同次変換行列を用いた順運動学](#toc0_)\n",
    "\n",
    "本notebookでは、2軸ロボットアームを用いて「同次変換行列を用いた順運動学」をPybulletで実装する手順について解説します。\n",
    "\n",
    "（pybulletで使用可能な関数がまとめられたマニュアルについては[こちら](https://github.com/bulletphysics/bullet3/blob/master/docs/pybullet_quickstartguide.pdf)を参照してください。）\n",
    "\n",
    "<br>\n",
    "\n",
    "同次変換行列による順運動学では、下動画のように\n",
    "- 各リンクに座標系を張り付け、\n",
    "- 「リンク1座標系$\\Sigma_{1}$」→「リンク2座標系$\\Sigma_{2}$」→　... →「エンドエフェクタ座標系$\\Sigma_{\\mathrm{e}}$」と順番に座標変換を繰り返すことで\n",
    "- 「リンク1座標系$\\Sigma_{1}$」から見た時の「エンドエフェクタ座標系$\\Sigma_{\\mathrm{e}}$」の位置·姿勢を求める\n",
    "\n",
    "ことができます。\n",
    "\n",
    "![](../images/RobotArm/robot_arm_homogeneous_matrix_forward_kinematics/overview.gif)"
   ]
  },
  {
   "cell_type": "markdown",
   "metadata": {},
   "source": [
    "### <a id='toc1_1_1_'></a>[pybulletの起動](#toc0_)"
   ]
  },
  {
   "cell_type": "code",
   "execution_count": 1,
   "metadata": {},
   "outputs": [
    {
     "name": "stderr",
     "output_type": "stream",
     "text": [
      "pybullet build time: Nov 28 2023 23:45:17\n"
     ]
    },
    {
     "name": "stdout",
     "output_type": "stream",
     "text": [
      "startThreads creating 1 threads.\n",
      "starting thread 0\n",
      "started thread 0 \n",
      "argc=2\n",
      "argv[0] = --unused\n",
      "argv[1] = --start_demo_name=Physics Server\n",
      "ExampleBrowserThreadFunc started\n",
      "X11 functions dynamically loaded using dlopen/dlsym OK!\n",
      "X11 functions dynamically loaded using dlopen/dlsym OK!\n",
      "Creating context\n",
      "Created GL 3.3 context\n",
      "Direct GLX rendering context obtained\n",
      "Making context current\n",
      "GL_VENDOR=Mesa\n",
      "GL_RENDERER=llvmpipe (LLVM 15.0.7, 256 bits)\n",
      "GL_VERSION=4.5 (Core Profile) Mesa 23.2.1-1ubuntu3.1~22.04.2\n",
      "GL_SHADING_LANGUAGE_VERSION=4.50\n",
      "pthread_getconcurrency()=0\n",
      "Version = 4.5 (Core Profile) Mesa 23.2.1-1ubuntu3.1~22.04.2\n",
      "Vendor = Mesa\n",
      "Renderer = llvmpipe (LLVM 15.0.7, 256 bits)\n",
      "b3Printf: Selected demo: Physics Server\n",
      "startThreads creating 1 threads.\n",
      "starting thread 0\n",
      "started thread 0 \n",
      "MotionThreadFunc thread started\n"
     ]
    }
   ],
   "source": [
    "import pybullet\n",
    "import pybullet_data\n",
    "physics_client = pybullet.connect(pybullet.GUI) "
   ]
  },
  {
   "cell_type": "markdown",
   "metadata": {},
   "source": [
    "### <a id='toc1_1_2_'></a>[pybulletの初期設定](#toc0_)"
   ]
  },
  {
   "cell_type": "code",
   "execution_count": 2,
   "metadata": {},
   "outputs": [
    {
     "name": "stdout",
     "output_type": "stream",
     "text": [
      "ven = Mesa\n",
      "ven = Mesa\n"
     ]
    }
   ],
   "source": [
    "pybullet.resetSimulation() # シミュレーション空間をリセット\n",
    "pybullet.setAdditionalSearchPath(pybullet_data.getDataPath()) # pybulletに必要なデータへのパスを追加\n",
    "pybullet.setGravity(0.0, 0.0, -9.8) # 地球上における重力に設定\n",
    "time_step = 1./240.\n",
    "pybullet.setTimeStep(time_step) # 1stepあたりに経過する時間の設定\n",
    "\n",
    "#床の読み込み\n",
    "plane_id = pybullet.loadURDF(\"plane.urdf\")\n",
    "\n",
    "# GUIモードの際のカメラの位置などを設定\n",
    "camera_distance = 2.0\n",
    "camera_yaw = 0.0 # deg\n",
    "camera_pitch = -20 # deg\n",
    "camera_target_position = [0.0, 0.0, 0.0]\n",
    "pybullet.resetDebugVisualizerCamera(camera_distance, camera_yaw, camera_pitch, camera_target_position)"
   ]
  },
  {
   "cell_type": "markdown",
   "metadata": {},
   "source": [
    "### <a id='toc1_1_3_'></a>[ロボットアームの生成](#toc0_)\n",
    "今回は、2軸ロボットアーム`simple_2d_arm.urdf`を生成します。  \n",
    "ロボットは下図のような構成になっています（センサーについては、`robot_arm_sensor.ipynb`にて解説しています。）  \n",
    "\n",
    "![](../images/RobotArm/2d_robot_arm.png)"
   ]
  },
  {
   "cell_type": "code",
   "execution_count": 3,
   "metadata": {},
   "outputs": [
    {
     "name": "stdout",
     "output_type": "stream",
     "text": [
      "b3Printf: b3Warning[examples/Importers/ImportURDFDemo/BulletUrdfImporter.cpp,126]:\n",
      "\n",
      "b3Printf: No inertial data for link, using mass=1, localinertiadiagonal = 1,1,1, identity local inertial frame\n",
      "b3Printf: b3Warning[examples/Importers/ImportURDFDemo/BulletUrdfImporter.cpp,126]:\n",
      "\n",
      "b3Printf: target_position_vertual_link\n"
     ]
    }
   ],
   "source": [
    "# ロボットの読み込み\n",
    "arm_start_pos = [0, 0, 0.1]  # 初期位置(x,y,z)を設定\n",
    "arm_start_orientation = pybullet.getQuaternionFromEuler([0,0,0])  # 初期姿勢(roll, pitch, yaw)を設定\n",
    "arm_id = pybullet.loadURDF(\"../urdf/simple2d_arm.urdf\",arm_start_pos, arm_start_orientation, useFixedBase=True) # ロボットが倒れないように、useFixedBase=Trueでルートのリンクを固定\n",
    "\n",
    "# GUIモードの際のカメラの位置などを設定\n",
    "camera_distance = 1.5\n",
    "camera_yaw = 180.0 # deg\n",
    "camera_pitch = -10 # deg\n",
    "camera_target_position = [0.0, 0.0, 1.0]\n",
    "pybullet.resetDebugVisualizerCamera(camera_distance, camera_yaw, camera_pitch, camera_target_position)"
   ]
  },
  {
   "cell_type": "markdown",
   "metadata": {},
   "source": [
    "### <a id='toc1_1_4_'></a>[2次元平面における同次変換行列の定義](#toc0_)\n",
    "\n",
    "\n",
    "2次元平面におけるロボットアームでは、一般に\n",
    "- リンク座標系はリンクの長さ方向に$x$軸をとります。\n",
    "![](../images/RobotArm/robot_arm_homogeneous_matrix_forward_kinematics/2d_robot_arm_link_cordinate.png)\n",
    "\n",
    "<br>\n",
    "\n",
    "そのため、２次元平面におけるロボットアームの場合\n",
    "1. 原点周りに $\\theta$ 回転（回転行列）\n",
    "2. $x$ 軸方向（リンクの長さ方向）に 「リンク長$l$」 だけ平行移動する（平行移動行列）\n",
    "\n",
    "といった手順で座標変換することができます。\n",
    "![](../images/RobotArm/robot_arm_homogeneous_matrix_forward_kinematics/2d_robot_arm_link_homogeneous_matrix_forward_kinematics.gif)"
   ]
  },
  {
   "cell_type": "markdown",
   "metadata": {},
   "source": [
    "下記コードでは、2次元平面における「回転行列`Hz`」と「平行移動行列`Hp`」を定義しています。  "
   ]
  },
  {
   "cell_type": "code",
   "execution_count": 4,
   "metadata": {},
   "outputs": [],
   "source": [
    "import numpy as np\n",
    "\n",
    "def Hz(theta):\n",
    "    \"\"\"\n",
    "    2次元平面における回転行列を求める（2次元平面における回転はz軸周り）\n",
    "\n",
    "    Parameters\n",
    "    ----------\n",
    "    theta : float\n",
    "        回転角度[rad]\n",
    "\n",
    "    Returns\n",
    "    -------\n",
    "    numpy.ndarray\n",
    "        回転行列\n",
    "    \"\"\"\n",
    "    return np.array([[np.cos(theta), -np.sin(theta), 0], \n",
    "                     [np.sin(theta), np.cos(theta), 0], \n",
    "                     [0, 0, 1]])\n",
    "\n",
    "def Hp(x, y):\n",
    "    \"\"\"\n",
    "    2次元平面における平行移動行列を求める\n",
    "\n",
    "    Parameters\n",
    "    ----------\n",
    "    x : float\n",
    "        x方向の平行移動量\n",
    "    y : float\n",
    "        y方向の平行移動量\n",
    "\n",
    "    Returns\n",
    "    -------\n",
    "    numpy.ndarray\n",
    "        平行移動行列\n",
    "    \"\"\"\n",
    "    return np.array([[1, 0, x], \n",
    "                     [0, 1, y], \n",
    "                     [0, 0, 1]])"
   ]
  },
  {
   "cell_type": "markdown",
   "metadata": {},
   "source": [
    "また、「回転行列`Hz`」と「平行移動行列`Hp`」を組み合わせることで、上記の「原点周りの回転」「平行移動」を同時に行う行列「同次変換行列`H`」を定義することができます。\n",
    "\n",
    "\n",
    "**【pythonコード例】**\n",
    "```python\n",
    "H = Hz(theta) @ Hp(LINK_LENGTH, 0) # 回転行列と平行移動行列を組み合わせて、同次変換行列を作成\n",
    "```\n"
   ]
  },
  {
   "cell_type": "markdown",
   "metadata": {},
   "source": [
    "<br>\n",
    "\n",
    "なお、同次変換行列は「チェーンルール」により\n",
    "- **リンク1座標系** → リンク2座標系 への同次変換行列`H12`\n",
    "- リンク2座標系 → **エンドエフェクタ座標系** への同次変換行列`H2e`\n",
    "  \n",
    "を「**リンク1座標系** → **エンドエフェクタ座標系** への同次変換行列`H1e`」として、一つの同次変換行列にまとめることができます。\n",
    "\n",
    "\n",
    "**【pythonコード例】**\n",
    "\n",
    "```python\n",
    "H12 = Hz(theta1) @ Hp(LINK1_LENGTH, 0) # リンク1座標系 → リンク2座標系 への同次変換行列\n",
    "H2e = Hz(theta2) @ Hp(LINK2_LENGTH, 0) # リンク2座標系 → エンドエフェクタ座標系 への同次変換行列\n",
    "H1e = H12 @ H2e # リンク1座標系 → エンドエフェクタ座標系 への同次変換行列\n",
    "```\n",
    "\n",
    "![](../images/RobotArm/robot_arm_homogeneous_matrix_forward_kinematics/direct_transformation.gif)\n"
   ]
  },
  {
   "cell_type": "markdown",
   "metadata": {},
   "source": [
    "※ 軸数が増えていく場合も同様に\n",
    "- 「**リンク1座標系** → リンク2座標系 への同次変換行列`H12`」\n",
    "- 「リンク2座標系 → リンク3座標系 への同次変換行列`H23`」\n",
    "- ...\n",
    "- 「リンクn座標系 → **エンドエフェクタ座標系** への同次変換行列`Hne`」\n",
    "\n",
    "を\n",
    "\n",
    "「**リンク1座標系** → **エンドエフェクタ座標系** への同次変換行列`H1e`」として、一つの同次変換行列にまとめることができます。"
   ]
  },
  {
   "cell_type": "markdown",
   "metadata": {},
   "source": [
    "<br>\n",
    "\n",
    "### <a id='toc1_1_5_'></a>[同次変換行列による順運動学の実行](#toc0_)\n",
    "\n",
    "以下コードを実行すると、「2軸ロボットアームの同次変換行列による順運動学」が計算され、pybullet上に結果（エンドエフェクタの位置）が表示されます。\n",
    "\n",
    "```python\n",
    "※ 画面上に表示される「エンドエフェクタの位置」は「ロボットアームの根本（=link1座標系）を原点とした座標位置」であることに注意してください（pybulletのワールド座標系を原点とした位置ではありません）。\n",
    "\n"
   ]
  },
  {
   "cell_type": "code",
   "execution_count": 11,
   "metadata": {},
   "outputs": [
    {
     "name": "stdout",
     "output_type": "stream",
     "text": [
      "(xe, ye)= 0.15449350228318842 0.9746569660489338\n"
     ]
    },
    {
     "data": {
      "text/plain": [
       "()"
      ]
     },
     "execution_count": 11,
     "metadata": {},
     "output_type": "execute_result"
    }
   ],
   "source": [
    "LINK1_LENGTH = 0.5   # link1の長さ(「simple2d_arm.urdf」のlink1のz方向の長さ)\n",
    "LINK2_LENGTH = 0.55  # link2の長さ(「simple2d_arm.urdf」のlink2+force_sensor_linkの長さ)\n",
    "\n",
    "# ここの値を変えると、結果が変わります##########\n",
    "# 各リンクの回転角度を定義\n",
    "link1_angle_deg = 60\n",
    "link2_angle_deg = 40\n",
    "############################################\n",
    "\n",
    "link1_angle_rad  = np.deg2rad(link1_angle_deg)\n",
    "link2_angle_rad  = np.deg2rad(link2_angle_deg)\n",
    "\n",
    "# リンク1座標系 -> リンク2座標系への変換行列\n",
    "H12 = Hz(link1_angle_rad) @ Hp(LINK1_LENGTH, 0) # T12：link「1」座標系 -> link「2」座標系\n",
    "# リンク2座標系 -> エンドエフェクタ座標系への変換行列\n",
    "H2e = Hz(link2_angle_rad) @ Hp(LINK2_LENGTH, 0) # T2e：link「2」座標系 ->「e」nd effector座標系\n",
    "\n",
    "# 「link1座標系 -> エンドエフェクタ座標系に変換する同時変換行列H12e」をあらかじめ定義\n",
    "H1e = H12@H2e # T1e：link「1」座標系 ->「e」nd effector座標系\n",
    "\n",
    "x1, y1 = 0, 0 # link1座標系の原点\n",
    "# H12eを使って、「link1座標系の原点」から見た時の、end effector座標系の位置を求める\n",
    "oe = H1e@np.array([x1, y1, 1])\n",
    "xe, ye = oe[0], oe[1]\n",
    "print(\"(xe, ye)=\", xe, ye)\n",
    "\n",
    "# 画面上に結果を表示\n",
    "text_position = [0.5, 0.0, 2.0]\n",
    "life_time = 10.0 # 表示期間（秒）\n",
    "pybullet.addUserDebugText(f\"x, y = ({xe:.2f}, {ye:.2f})\", text_position, textSize=2, lifeTime=life_time)\n",
    "\n",
    "# 実際に関節を動かして、順運動学の結果と等しいかを確認\n",
    "pybullet.resetJointState(arm_id, 0, link1_angle_rad )\n",
    "pybullet.resetJointState(arm_id, 1, link2_angle_rad )\n",
    "pybullet.stepSimulation()"
   ]
  }
 ],
 "metadata": {
  "kernelspec": {
   "display_name": "Python 3",
   "language": "python",
   "name": "python3"
  },
  "language_info": {
   "codemirror_mode": {
    "name": "ipython",
    "version": 3
   },
   "file_extension": ".py",
   "mimetype": "text/x-python",
   "name": "python",
   "nbconvert_exporter": "python",
   "pygments_lexer": "ipython3",
   "version": "3.10.12"
  }
 },
 "nbformat": 4,
 "nbformat_minor": 2
}
