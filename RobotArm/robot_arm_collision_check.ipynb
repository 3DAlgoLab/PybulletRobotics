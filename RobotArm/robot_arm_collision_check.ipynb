{
 "cells": [
  {
   "cell_type": "markdown",
   "metadata": {},
   "source": [
    "**Table of contents**<a id='toc0_'></a>    \n",
    "- [ロボットアーム](#toc1_)    \n",
    "- [pybulletの起動](#toc2_)    \n",
    "- [初期設定](#toc3_)    \n",
    "- [関数の定義](#toc4_)    \n",
    "- [シミュレーションの実行](#toc5_)    \n",
    "\n",
    "<!-- vscode-jupyter-toc-config\n",
    "\tnumbering=false\n",
    "\tanchor=true\n",
    "\tflat=false\n",
    "\tminLevel=1\n",
    "\tmaxLevel=6\n",
    "\t/vscode-jupyter-toc-config -->\n",
    "<!-- THIS CELL WILL BE REPLACED ON TOC UPDATE. DO NOT WRITE YOUR TEXT IN THIS CELL -->"
   ]
  },
  {
   "cell_type": "markdown",
   "metadata": {},
   "source": [
    "# <a id='toc1_'></a>[ロボットアーム](#toc0_)\n",
    "\n",
    "本notebookでは「2軸のロボットアーム」と「オブジェクト」間の衝突判定を行う方法を紹介します。\n",
    "\n",
    "（pybulletで使用可能な関数がまとめられたマニュアルについては[こちら](https://github.com/bulletphysics/bullet3/blob/master/docs/pybullet_quickstartguide.pdf)を参照してください。）"
   ]
  },
  {
   "cell_type": "markdown",
   "metadata": {},
   "source": [
    "# <a id='toc2_'></a>[pybulletの起動](#toc0_)"
   ]
  },
  {
   "cell_type": "code",
   "execution_count": 1,
   "metadata": {},
   "outputs": [
    {
     "name": "stderr",
     "output_type": "stream",
     "text": [
      "pybullet build time: Nov 28 2023 23:45:17\n"
     ]
    },
    {
     "name": "stdout",
     "output_type": "stream",
     "text": [
      "startThreads creating 1 threads.\n",
      "starting thread 0\n",
      "started thread 0 \n",
      "argc=2\n",
      "argv[0] = --unused\n",
      "argv[1] = --start_demo_name=Physics Server\n",
      "ExampleBrowserThreadFunc started\n",
      "X11 functions dynamically loaded using dlopen/dlsym OK!\n",
      "X11 functions dynamically loaded using dlopen/dlsym OK!\n",
      "Creating context\n",
      "Created GL 3.3 context\n",
      "Direct GLX rendering context obtained\n",
      "Making context current\n",
      "GL_VENDOR=Mesa\n",
      "GL_RENDERER=llvmpipe (LLVM 15.0.7, 256 bits)\n",
      "GL_VERSION=4.5 (Core Profile) Mesa 23.2.1-1ubuntu3.1~22.04.2\n",
      "GL_SHADING_LANGUAGE_VERSION=4.50\n",
      "pthread_getconcurrency()=0\n",
      "Version = 4.5 (Core Profile) Mesa 23.2.1-1ubuntu3.1~22.04.2\n",
      "Vendor = Mesa\n",
      "Renderer = llvmpipe (LLVM 15.0.7, 256 bits)\n",
      "b3Printf: Selected demo: Physics Server\n",
      "startThreads creating 1 threads.\n",
      "starting thread 0\n",
      "started thread 0 \n",
      "MotionThreadFunc thread started\n"
     ]
    }
   ],
   "source": [
    "import pybullet\n",
    "import pybullet_data\n",
    "physics_client = pybullet.connect(pybullet.GUI) "
   ]
  },
  {
   "cell_type": "markdown",
   "metadata": {},
   "source": [
    "# <a id='toc3_'></a>[初期設定](#toc0_)\n",
    "床の生成、ボックスオブジェクトの生成、ロボットの生成、カメラ位置の設定などの初期設定を行います。"
   ]
  },
  {
   "cell_type": "code",
   "execution_count": 2,
   "metadata": {},
   "outputs": [
    {
     "name": "stdout",
     "output_type": "stream",
     "text": [
      "ven = Mesa\n",
      "ven = Mesa\n",
      "b3Printf: b3Warning[examples/Importers/ImportURDFDemo/BulletUrdfImporter.cpp,126]:\n",
      "\n",
      "b3Printf: No inertial data for link, using mass=1, localinertiadiagonal = 1,1,1, identity local inertial frame\n",
      "b3Printf: b3Warning[examples/Importers/ImportURDFDemo/BulletUrdfImporter.cpp,126]:\n",
      "\n",
      "b3Printf: target_position_vertual_link\n"
     ]
    }
   ],
   "source": [
    "pybullet.resetSimulation() # シミュレーション空間をリセット\n",
    "pybullet.setAdditionalSearchPath(pybullet_data.getDataPath()) # pybulletに必要なデータへのパスを追加\n",
    "pybullet.setGravity(0.0, 0.0, -9.8) # 地球上における重力に設定\n",
    "time_step = 1./240.\n",
    "pybullet.setTimeStep(time_step) # 1stepあたりに経過する時間の設定\n",
    "\n",
    "#床の読み込み\n",
    "plane_id = pybullet.loadURDF(\"plane.urdf\")\n",
    "\n",
    "# GUIモードの際のカメラの位置などを設定\n",
    "camera_distance = 2.0\n",
    "camera_yaw = 0.0 # deg\n",
    "camera_pitch = -20 # deg\n",
    "camera_target_position = [0.0, 0.0, 0.0]\n",
    "pybullet.resetDebugVisualizerCamera(camera_distance, camera_yaw, camera_pitch, camera_target_position)\n",
    "\n",
    "# ロボットの読み込み\n",
    "arm_start_pos = [0, 0, 0.1]  # 初期位置(x,y,z)を設定\n",
    "arm_start_orientation = pybullet.getQuaternionFromEuler([0,0,0])  # 初期姿勢(roll, pitch, yaw)を設定\n",
    "arm_id = pybullet.loadURDF(\"../urdf/simple2d_arm.urdf\",arm_start_pos, arm_start_orientation, useFixedBase=True) # ロボットが倒れないように、useFixedBase=Trueでルートのリンクを固定\n",
    "\n",
    "# GUIモードの際のカメラの位置などを設定\n",
    "camera_distance = 1.5\n",
    "camera_yaw = 180.0 # deg\n",
    "camera_pitch = -10 # deg\n",
    "camera_target_position = [0.0, 0.0, 1.0]\n",
    "pybullet.resetDebugVisualizerCamera(camera_distance, camera_yaw, camera_pitch, camera_target_position)\n",
    "\n",
    "# ボックスの読み込み\n",
    "## ボックスの重さ、サイズ、位置·姿勢を決める\n",
    "mass = 5 # kg\n",
    "box_size = [0.3, 0.6, 0.5]\n",
    "position = [0.8, 0, 0.5]\n",
    "orientation = [1, 0, 0, 0] # 四元数\n",
    "box_collision_id = pybullet.createCollisionShape(pybullet.GEOM_BOX, halfExtents=box_size, physicsClientId=physics_client)\n",
    "box_visual_id = pybullet.createVisualShape(pybullet.GEOM_BOX, halfExtents=box_size, physicsClientId=physics_client, rgbaColor=[1,0,0,1]) # 赤・半透明\n",
    "box_body_id = pybullet.createMultiBody(mass, box_collision_id, box_visual_id, position, orientation, physicsClientId=physics_client)"
   ]
  },
  {
   "cell_type": "markdown",
   "metadata": {},
   "source": [
    "# <a id='toc4_'></a>[関数の定義](#toc0_)\n",
    "物体間の衝突の有効化/無効化に必要な、以下の関数を定義します。\n",
    "- `GetNumLinks`：指定したオブジェクトのリンク数を取得\n",
    "- `EnableCollisionBetweenObjects`：2つのオブジェクト間の衝突を有効/無効化する\n",
    "- `JudgeContact`：2つのオブジェクトが接触しているかどうかを判定"
   ]
  },
  {
   "cell_type": "code",
   "execution_count": 3,
   "metadata": {},
   "outputs": [],
   "source": [
    "def get_num_links(objId):\n",
    "    \"\"\"\n",
    "    指定されたオブジェクトのリンク数を取得する。\n",
    "    Parameters\n",
    "    ----------\n",
    "    objId : int\n",
    "        オブジェクトのインデックス。\n",
    "        \n",
    "    Returns\n",
    "    -------\n",
    "    linkNum : int\n",
    "        オブジェクトのリンク数\n",
    "    \"\"\"\n",
    "    current_link_idx = 0\n",
    "    link_num = 0\n",
    "    while True:\n",
    "        result = pybullet.getLinkState(objId, current_link_idx)\n",
    "        if result is None:\n",
    "            link_num = current_link_idx + 1\n",
    "            break\n",
    "        current_link_idx += 1\n",
    "    return link_num\n",
    "\n",
    "def enable_collision_between_objects(obj1_id, obj2_id, enable):\n",
    "    \"\"\"\n",
    "    指定されたオブジェクト間の衝突を有効/無効にする。\n",
    "    Parameters\n",
    "    ----------\n",
    "    obj1_id : int\n",
    "        1つ目のオブジェクトのインデックス。\n",
    "    obj2_id : int\n",
    "        2つ目のオブジェクトのインデックス。\n",
    "    enable : bool\n",
    "        衝突判定を有効にする場合はTrue、無効にする場合はFalse。\n",
    "\n",
    "    Returns\n",
    "    -------\n",
    "    None\n",
    "    \"\"\"\n",
    "    # 各オブジェクトのリンク数を取得\n",
    "    obj1_link_num = get_num_links(obj1_id)\n",
    "    obj2_link_num = get_num_links(obj2_id)\n",
    "\n",
    "    # 衝突判定の有効/無効を設定\n",
    "    for obj1_link_idx in range(-1, obj1_link_num):\n",
    "        for obj2_link_idx in range(-1, obj2_link_num):\n",
    "            pybullet.setCollisionFilterPair(obj1_id, obj2_id, obj1_link_idx, obj2_link_idx, enable)\n",
    "\n",
    "def judge_collision(obj1_id, obj2_id):\n",
    "    \"\"\"\n",
    "    2つのオブジェクトが接触しているかどうかを判定する。\n",
    "    Parameters\n",
    "    ----------\n",
    "    obj1_id : int\n",
    "        1つ目のオブジェクトのインデックス。\n",
    "    obj2_id : int\n",
    "        2つ目のオブジェクトのインデックス。\n",
    "\n",
    "    Returns\n",
    "    -------\n",
    "    isCollision : bool\n",
    "        2つのオブジェクトが接触している場合はTrue、接触していない場合はFalse。\n",
    "    \"\"\"\n",
    "    # 2つのオブジェクト間の接触情報を取得\n",
    "    pts = pybullet.getClosestPoints(obj1_id, obj2_id, distance=100)\n",
    "\n",
    "    # 2つのオブジェクトが接触しているかどうかを判定\n",
    "    is_collision = False\n",
    "    for pt in pts:\n",
    "        distance = pt[8]\n",
    "        # 2つのオブジェクト間で接触している点（=距離が0未満の点）があるかを判定\n",
    "        if distance < 0.0:\n",
    "            is_collision = True\n",
    "            break\n",
    "\t\n",
    "    return is_collision"
   ]
  },
  {
   "cell_type": "markdown",
   "metadata": {},
   "source": [
    "# <a id='toc5_'></a>[シミュレーションの実行](#toc0_)\n",
    "ロボットアームを動かし、オブジェクトとの衝突判定を行います。\n",
    "\n",
    "下記コードを実行すると、GUI画面上のロボットアームをマウスで操作することができ、ロボットアームをボックスに触れさせると、画面上に「collision」と表示されます。"
   ]
  },
  {
   "cell_type": "code",
   "execution_count": 4,
   "metadata": {},
   "outputs": [],
   "source": [
    "import time\n",
    "\n",
    "pybullet.setRealTimeSimulation(1) # リアルタイムシミュレーションを有効化（GUI画面上で、オブジェクトをマウスで操作することが可能になる）\n",
    "\n",
    "# ロボットアームとボックス間の衝突判定を無効化\n",
    "enable_collision_between_objects(arm_id, box_body_id, False)\n",
    "\n",
    "# ロボットアームとボックスが衝突しているかどうかを画面上に表示\n",
    "while (pybullet.isConnected()):\n",
    "\n",
    "\t# ロボットアームとボックスが衝突しているかどうかを判定\n",
    "\tis_collision = judge_collision(arm_id, box_body_id)\n",
    "\n",
    "\t# 衝突している場合は画面上に表示\n",
    "\tif is_collision:\n",
    "\t\tpybullet.addUserDebugText(\"collision\", [0.5, 0.0, 1.5], textSize=5, lifeTime=0.1, textColorRGB=[1,0,0])\n",
    "\t\n",
    "\ttime.sleep(time_step)"
   ]
  },
  {
   "cell_type": "code",
   "execution_count": null,
   "metadata": {},
   "outputs": [],
   "source": []
  }
 ],
 "metadata": {
  "kernelspec": {
   "display_name": "Python 3",
   "language": "python",
   "name": "python3"
  },
  "language_info": {
   "codemirror_mode": {
    "name": "ipython",
    "version": 3
   },
   "file_extension": ".py",
   "mimetype": "text/x-python",
   "name": "python",
   "nbconvert_exporter": "python",
   "pygments_lexer": "ipython3",
   "version": "3.10.12"
  }
 },
 "nbformat": 4,
 "nbformat_minor": 2
}
