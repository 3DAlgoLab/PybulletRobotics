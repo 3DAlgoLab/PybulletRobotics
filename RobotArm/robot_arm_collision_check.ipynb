{
 "cells": [
  {
   "cell_type": "markdown",
   "metadata": {},
   "source": [
    "**Table of contents**<a id='toc0_'></a>    \n",
    "- [ロボットアーム](#toc1_)    \n",
    "- [pybulletの起動](#toc2_)    \n",
    "- [初期設定](#toc3_)    \n",
    "- [関数の定義](#toc4_)    \n",
    "- [シミュレーションの実行](#toc5_)    \n",
    "\n",
    "<!-- vscode-jupyter-toc-config\n",
    "\tnumbering=false\n",
    "\tanchor=true\n",
    "\tflat=false\n",
    "\tminLevel=1\n",
    "\tmaxLevel=6\n",
    "\t/vscode-jupyter-toc-config -->\n",
    "<!-- THIS CELL WILL BE REPLACED ON TOC UPDATE. DO NOT WRITE YOUR TEXT IN THIS CELL -->"
   ]
  },
  {
   "cell_type": "markdown",
   "metadata": {},
   "source": [
    "# <a id='toc1_'></a>[ロボットアーム](#toc0_)\n",
    "\n",
    "本notebookでは「2軸のロボットアーム」と「オブジェクト」間の衝突判定を行う方法を紹介します。\n",
    "\n",
    "（pybulletで使用可能な関数がまとめられたマニュアルについては[こちら](https://github.com/bulletphysics/bullet3/blob/master/docs/pybullet_quickstartguide.pdf)を参照してください。）"
   ]
  },
  {
   "cell_type": "markdown",
   "metadata": {},
   "source": [
    "# <a id='toc2_'></a>[pybulletの起動](#toc0_)"
   ]
  },
  {
   "cell_type": "code",
   "execution_count": 1,
   "metadata": {},
   "outputs": [
    {
     "name": "stderr",
     "output_type": "stream",
     "text": [
      "pybullet build time: Nov 28 2023 23:45:17\n"
     ]
    },
    {
     "name": "stdout",
     "output_type": "stream",
     "text": [
      "startThreads creating 1 threads.\n",
      "starting thread 0\n",
      "started thread 0 \n",
      "argc=2\n",
      "argv[0] = --unused\n",
      "argv[1] = --start_demo_name=Physics Server\n",
      "ExampleBrowserThreadFunc started\n",
      "X11 functions dynamically loaded using dlopen/dlsym OK!\n",
      "X11 functions dynamically loaded using dlopen/dlsym OK!\n",
      "Creating context\n",
      "Created GL 3.3 context\n",
      "Direct GLX rendering context obtained\n",
      "Making context current\n",
      "GL_VENDOR=Microsoft Corporation\n",
      "GL_RENDERER=D3D12 (AMD Radeon Graphics)\n",
      "GL_VERSION=4.2 (Core Profile) Mesa 23.2.1-1ubuntu3.1~22.04.2\n",
      "GL_SHADING_LANGUAGE_VERSION=4.20\n",
      "pthread_getconcurrency()=0\n",
      "Version = 4.2 (Core Profile) Mesa 23.2.1-1ubuntu3.1~22.04.2\n",
      "Vendor = Microsoft Corporation\n",
      "Renderer = D3D12 (AMD Radeon Graphics)\n",
      "b3Printf: Selected demo: Physics Server\n",
      "startThreads creating 1 threads.\n",
      "starting thread 0\n",
      "started thread 0 \n",
      "MotionThreadFunc thread started\n"
     ]
    },
    {
     "name": "stdout",
     "output_type": "stream",
     "text": [
      "ven = Microsoft Corporation\n",
      "ven = Microsoft Corporation\n"
     ]
    }
   ],
   "source": [
    "import pybullet\n",
    "import pybullet_data\n",
    "physicsClient = pybullet.connect(pybullet.GUI) "
   ]
  },
  {
   "cell_type": "markdown",
   "metadata": {},
   "source": [
    "# <a id='toc3_'></a>[初期設定](#toc0_)\n",
    "床の生成、ボックスオブジェクトの生成、ロボットの生成、カメラ位置の設定などの初期設定を行います。"
   ]
  },
  {
   "cell_type": "code",
   "execution_count": 29,
   "metadata": {},
   "outputs": [
    {
     "name": "stdout",
     "output_type": "stream",
     "text": [
      "b3Printf: b3Warning[examples/Importers/ImportURDFDemo/BulletUrdfImporter.cpp,126]:\n",
      "\n",
      "b3Printf: No inertial data for link, using mass=1, localinertiadiagonal = 1,1,1, identity local inertial frame\n",
      "b3Printf: b3Warning[examples/Importers/ImportURDFDemo/BulletUrdfImporter.cpp,126]:\n",
      "\n",
      "b3Printf: target_position_vertual_link\n"
     ]
    }
   ],
   "source": [
    "pybullet.resetSimulation() # シミュレーション空間をリセット\n",
    "pybullet.setAdditionalSearchPath(pybullet_data.getDataPath()) # pybulletに必要なデータへのパスを追加\n",
    "pybullet.setGravity(0.0, 0.0, -9.8) # 地球上における重力に設定\n",
    "timeStep = 1./240.\n",
    "pybullet.setTimeStep(timeStep) # 1stepあたりに経過する時間の設定\n",
    "\n",
    "#床の読み込み\n",
    "planeId = pybullet.loadURDF(\"plane.urdf\")\n",
    "\n",
    "# GUIモードの際のカメラの位置などを設定\n",
    "cameraDistance = 2.0\n",
    "cameraYaw = 0.0 # deg\n",
    "cameraPitch = -20 # deg\n",
    "cameraTargetPosition = [0.0, 0.0, 0.0]\n",
    "pybullet.resetDebugVisualizerCamera(cameraDistance, cameraYaw, cameraPitch, cameraTargetPosition)\n",
    "\n",
    "# ロボットの読み込み\n",
    "armStartPos = [0, 0, 0.1]  # 初期位置(x,y,z)を設定\n",
    "armStartOrientation = pybullet.getQuaternionFromEuler([0,0,0])  # 初期姿勢(roll, pitch, yaw)を設定\n",
    "armId = pybullet.loadURDF(\"../urdf/simple2d_arm.urdf\",armStartPos, armStartOrientation, useFixedBase=True) # ロボットが倒れないように、useFixedBase=Trueでルートのリンクを固定\n",
    "\n",
    "# GUIモードの際のカメラの位置などを設定\n",
    "cameraDistance = 1.5\n",
    "cameraYaw = 180.0 # deg\n",
    "cameraPitch = -10 # deg\n",
    "cameraTargetPosition = [0.0, 0.0, 1.0]\n",
    "pybullet.resetDebugVisualizerCamera(cameraDistance, cameraYaw, cameraPitch, cameraTargetPosition)\n",
    "\n",
    "# ボックスの読み込み\n",
    "## ボックスの重さ、サイズ、位置·姿勢を決める\n",
    "mass = 5 # kg\n",
    "box_size = [0.3, 0.4, 0.5]\n",
    "position = [0.8, 0, 0.5]\n",
    "orientation = [1, 0, 0, 0] # 四元数\n",
    "box_cid = pybullet.createCollisionShape(pybullet.GEOM_BOX, halfExtents=box_size, physicsClientId=physicsClient)\n",
    "box_vid = pybullet.createVisualShape(pybullet.GEOM_BOX, halfExtents=box_size, physicsClientId=physicsClient, rgbaColor=[1,0,0,1]) # 赤・半透明\n",
    "box_bid = pybullet.createMultiBody(mass, box_cid, box_vid, position, orientation, physicsClientId=physicsClient)"
   ]
  },
  {
   "cell_type": "markdown",
   "metadata": {},
   "source": [
    "# <a id='toc4_'></a>[関数の定義](#toc0_)\n",
    "物体間の衝突の有効化/無効化に必要な、以下の関数を定義します。\n",
    "- `GetNumLinks`：指定したオブジェクトのリンク数を取得\n",
    "- `EnableCollisionBetweenObjects`：2つのオブジェクト間の衝突を有効/無効化する\n",
    "- `JudgeContact`：2つのオブジェクトが接触しているかどうかを判定"
   ]
  },
  {
   "cell_type": "code",
   "execution_count": 15,
   "metadata": {},
   "outputs": [],
   "source": [
    "def GetNumLinks(objId):\n",
    "    \"\"\"\n",
    "    指定されたオブジェクトのリンク数を取得する。\n",
    "    Args:\n",
    "        obj (int): オブジェクトのインデックス。\n",
    "        \n",
    "    Returns:\n",
    "        int: オブジェクトのリンク数。\n",
    "    \"\"\"\n",
    "    currentLinkIdx = 0\n",
    "    linkNum = 0\n",
    "    while True:\n",
    "        result = pybullet.getLinkState(objId, currentLinkIdx)\n",
    "        if result is None:\n",
    "            linkNum = currentLinkIdx + 1\n",
    "            break\n",
    "        currentLinkIdx += 1\n",
    "    return linkNum\n",
    "\n",
    "def EnableCollisionBetweenObjects(obj1Id, obj2Id, enable):\n",
    "    \"\"\"\n",
    "    指定されたオブジェクト間の衝突を有効/無効にする。\n",
    "    Args:\n",
    "        obj1Idx (int): 1つ目ののオブジェクトのインデックス。\n",
    "        obj2Idx (int): 2つ目ののオブジェクトのインデックス。\n",
    "        enable (bool): 衝突を有効にする場合はTrue、無効にする場合はFalseを指定。\n",
    "        \n",
    "    Returns:\n",
    "        None\n",
    "    \"\"\"\n",
    "    # 各オブジェクトのリンク数を取得\n",
    "    obj1LinkNum = GetNumLinks(obj1Id)\n",
    "    obj2LinkNum = GetNumLinks(obj2Id)\n",
    "\n",
    "    # 衝突判定の有効/無効を設定\n",
    "    for obj1LinkIdx in range(-1, obj1LinkNum):\n",
    "        for obj2LinkIdx in range(-1, obj2LinkNum):\n",
    "            pybullet.setCollisionFilterPair(obj1Id, obj2Id, obj1LinkIdx, obj2LinkIdx, enable)\n",
    "\n",
    "def JudgeCollision(obj1Id, obj2Id):\n",
    "    \"\"\"\n",
    "    2つのオブジェクトが接触しているかどうかを判定する。\n",
    "    Args:\n",
    "        obj1Id (int): 1つ目のオブジェクトのインデックス。\n",
    "        obj2Id (int): 2つ目のオブジェクトのインデックス。\n",
    "        \n",
    "    Returns:\n",
    "        bool: 2つのオブジェクトが接触している場合はTrue、そうでない場合はFalse。\n",
    "    \"\"\"\n",
    "    # 2つのオブジェクト間の接触情報を取得\n",
    "    pts = pybullet.getClosestPoints(obj1Id, obj2Id, distance=100)\n",
    "\n",
    "    # 2つのオブジェクトが接触しているかどうかを判定\n",
    "    isCollision = False\n",
    "    for pt in pts:\n",
    "        distance = pt[8]\n",
    "        # 2つのオブジェクト間で接触している点（=距離が0未満の点）があるかを判定\n",
    "        if distance < 0.0:\n",
    "            isCollision = True\n",
    "            break\n",
    "\t\n",
    "    return isCollision"
   ]
  },
  {
   "cell_type": "markdown",
   "metadata": {},
   "source": [
    "# <a id='toc5_'></a>[シミュレーションの実行](#toc0_)\n",
    "ロボットアームを動かし、オブジェクトとの衝突判定を行います。\n",
    "\n",
    "下記コードを実行すると、GUI画面上のロボットアームをマウスで操作することができ、ロボットアームをボックスに触れさせると、画面上に「collision」と表示されます。"
   ]
  },
  {
   "cell_type": "code",
   "execution_count": 30,
   "metadata": {},
   "outputs": [
    {
     "ename": "KeyboardInterrupt",
     "evalue": "",
     "output_type": "error",
     "traceback": [
      "\u001b[0;31m---------------------------------------------------------------------------\u001b[0m",
      "\u001b[0;31mKeyboardInterrupt\u001b[0m                         Traceback (most recent call last)",
      "Cell \u001b[0;32mIn[30], line 18\u001b[0m\n\u001b[1;32m     15\u001b[0m \u001b[38;5;28;01mif\u001b[39;00m collisionResult:\n\u001b[1;32m     16\u001b[0m \tpybullet\u001b[38;5;241m.\u001b[39maddUserDebugText(\u001b[38;5;124m\"\u001b[39m\u001b[38;5;124mcollision\u001b[39m\u001b[38;5;124m\"\u001b[39m, [\u001b[38;5;241m0.5\u001b[39m, \u001b[38;5;241m0.0\u001b[39m, \u001b[38;5;241m1.5\u001b[39m], textSize\u001b[38;5;241m=\u001b[39m\u001b[38;5;241m5\u001b[39m, lifeTime\u001b[38;5;241m=\u001b[39m\u001b[38;5;241m0.1\u001b[39m, textColorRGB\u001b[38;5;241m=\u001b[39m[\u001b[38;5;241m1\u001b[39m,\u001b[38;5;241m0\u001b[39m,\u001b[38;5;241m0\u001b[39m])\n\u001b[0;32m---> 18\u001b[0m \u001b[43mtime\u001b[49m\u001b[38;5;241;43m.\u001b[39;49m\u001b[43msleep\u001b[49m\u001b[43m(\u001b[49m\u001b[43mtimeStep\u001b[49m\u001b[43m)\u001b[49m\n",
      "\u001b[0;31mKeyboardInterrupt\u001b[0m: "
     ]
    }
   ],
   "source": [
    "import time\n",
    "\n",
    "pybullet.setRealTimeSimulation(1) # リアルタイムシミュレーションを有効化（GUI画面上で、オブジェクトをマウスで操作することが可能になる）\n",
    "\n",
    "# ロボットアームとボックス間の衝突判定を無効化\n",
    "EnableCollisionBetweenObjects(armId, box_bid, False)\n",
    "\n",
    "# ロボットアームとボックスが衝突しているかどうかを画面上に表示\n",
    "while (pybullet.isConnected()):\n",
    "\n",
    "\t# ロボットアームとボックスが衝突しているかどうかを判定\n",
    "\tcollisionResult = JudgeCollision(armId, box_bid)\n",
    "\n",
    "\t# 衝突している場合は画面上に表示\n",
    "\tif collisionResult:\n",
    "\t\tpybullet.addUserDebugText(\"collision\", [0.5, 0.0, 1.5], textSize=5, lifeTime=0.1, textColorRGB=[1,0,0])\n",
    "\t\n",
    "\ttime.sleep(timeStep)"
   ]
  },
  {
   "cell_type": "code",
   "execution_count": null,
   "metadata": {},
   "outputs": [],
   "source": []
  }
 ],
 "metadata": {
  "kernelspec": {
   "display_name": "Python 3",
   "language": "python",
   "name": "python3"
  },
  "language_info": {
   "codemirror_mode": {
    "name": "ipython",
    "version": 3
   },
   "file_extension": ".py",
   "mimetype": "text/x-python",
   "name": "python",
   "nbconvert_exporter": "python",
   "pygments_lexer": "ipython3",
   "version": "3.10.12"
  }
 },
 "nbformat": 4,
 "nbformat_minor": 2
}
