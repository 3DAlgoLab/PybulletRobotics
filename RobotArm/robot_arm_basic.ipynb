{
 "cells": [
  {
   "cell_type": "markdown",
   "metadata": {},
   "source": [
    "**Table of contents**<a id='toc0_'></a>    \n",
    "- [ロボットアーム](#toc1_)    \n",
    "- [pybulletの起動](#toc2_)    \n",
    "- [pybulletの初期設定](#toc3_)    \n",
    "- [ロボットアームの生成](#toc4_)    \n",
    "- [シミュレーションの実行](#toc5_)    \n",
    "\n",
    "<!-- vscode-jupyter-toc-config\n",
    "\tnumbering=false\n",
    "\tanchor=true\n",
    "\tflat=false\n",
    "\tminLevel=1\n",
    "\tmaxLevel=6\n",
    "\t/vscode-jupyter-toc-config -->\n",
    "<!-- THIS CELL WILL BE REPLACED ON TOC UPDATE. DO NOT WRITE YOUR TEXT IN THIS CELL -->"
   ]
  },
  {
   "cell_type": "markdown",
   "metadata": {},
   "source": [
    "# <a id='toc1_'></a>[ロボットアーム](#toc0_)\n",
    "\n",
    "本notebookでは2軸のロボットアームを生成し、制御する手順について解説します。\n",
    "\n",
    "（pybulletで使用可能な関数がまとめられたマニュアルについては[こちら](https://github.com/bulletphysics/bullet3/blob/master/docs/pybullet_quickstartguide.pdf)を参照してください。）"
   ]
  },
  {
   "cell_type": "markdown",
   "metadata": {},
   "source": [
    "# <a id='toc2_'></a>[pybulletの起動](#toc0_)"
   ]
  },
  {
   "cell_type": "code",
   "execution_count": 1,
   "metadata": {},
   "outputs": [
    {
     "name": "stdout",
     "output_type": "stream",
     "text": [
      "startThreads creating 1 threads.\n",
      "starting thread 0\n"
     ]
    },
    {
     "name": "stderr",
     "output_type": "stream",
     "text": [
      "pybullet build time: Nov 28 2023 23:45:17\n"
     ]
    },
    {
     "name": "stdout",
     "output_type": "stream",
     "text": [
      "started thread 0 \n",
      "argc=2\n",
      "argv[0] = --unused\n",
      "argv[1] = --start_demo_name=Physics Server\n",
      "ExampleBrowserThreadFunc started\n",
      "X11 functions dynamically loaded using dlopen/dlsym OK!\n",
      "X11 functions dynamically loaded using dlopen/dlsym OK!\n",
      "Creating context\n",
      "Created GL 3.3 context\n",
      "Direct GLX rendering context obtained\n",
      "Making context current\n",
      "GL_VENDOR=Microsoft Corporation\n",
      "GL_RENDERER=D3D12 (AMD Radeon Graphics)\n",
      "GL_VERSION=4.2 (Core Profile) Mesa 23.2.1-1ubuntu3.1~22.04.2\n",
      "GL_SHADING_LANGUAGE_VERSION=4.20\n",
      "pthread_getconcurrency()=0\n",
      "Version = 4.2 (Core Profile) Mesa 23.2.1-1ubuntu3.1~22.04.2\n",
      "Vendor = Microsoft Corporation\n",
      "Renderer = D3D12 (AMD Radeon Graphics)\n",
      "b3Printf: Selected demo: Physics Server\n",
      "startThreads creating 1 threads.\n",
      "starting thread 0\n",
      "started thread 0 \n",
      "MotionThreadFunc thread started\n"
     ]
    },
    {
     "name": "stdout",
     "output_type": "stream",
     "text": [
      "ven = Microsoft Corporation\n",
      "ven = Microsoft Corporation\n"
     ]
    }
   ],
   "source": [
    "import pybullet\n",
    "import pybullet_data\n",
    "physicsClient = pybullet.connect(pybullet.GUI) "
   ]
  },
  {
   "cell_type": "markdown",
   "metadata": {},
   "source": [
    "# <a id='toc3_'></a>[pybulletの初期設定](#toc0_)"
   ]
  },
  {
   "cell_type": "code",
   "execution_count": 9,
   "metadata": {},
   "outputs": [],
   "source": [
    "pybullet.resetSimulation() # シミュレーション空間をリセット\n",
    "pybullet.setAdditionalSearchPath(pybullet_data.getDataPath()) # pybulletに必要なデータへのパスを追加\n",
    "pybullet.setGravity(0.0, 0.0, -9.8) # 地球上における重力に設定\n",
    "timeStep = 1./240.\n",
    "pybullet.setTimeStep(timeStep) # 1stepあたりに経過する時間の設定\n",
    "\n",
    "#床の読み込み\n",
    "planeId = pybullet.loadURDF(\"plane.urdf\")\n",
    "\n",
    "# GUIモードの際のカメラの位置などを設定\n",
    "cameraDistance = 2.0\n",
    "cameraYaw = 0.0 # deg\n",
    "cameraPitch = -20 # deg\n",
    "cameraTargetPosition = [0.0, 0.0, 0.0]\n",
    "pybullet.resetDebugVisualizerCamera(cameraDistance, cameraYaw, cameraPitch, cameraTargetPosition)"
   ]
  },
  {
   "cell_type": "markdown",
   "metadata": {},
   "source": [
    "# <a id='toc4_'></a>[ロボットアームの生成](#toc0_)\n",
    "今回は、2軸ロボットアーム`simple_2d_arm.urdf`を生成します。  \n",
    "ロボットは下図のような構成になっています（センサーについては、`robot_arm_sensor.ipynb`にて解説しています。）  \n",
    "\n",
    "![](../images/2d_robot_arm.png)"
   ]
  },
  {
   "cell_type": "code",
   "execution_count": 10,
   "metadata": {},
   "outputs": [
    {
     "name": "stdout",
     "output_type": "stream",
     "text": [
      "b3Printf: b3Warning[examples/Importers/ImportURDFDemo/BulletUrdfImporter.cpp,126]:\n",
      "\n",
      "b3Printf: No inertial data for link, using mass=1, localinertiadiagonal = 1,1,1, identity local inertial frame\n",
      "b3Printf: b3Warning[examples/Importers/ImportURDFDemo/BulletUrdfImporter.cpp,126]:\n",
      "\n",
      "b3Printf: target_position_vertual_link\n"
     ]
    }
   ],
   "source": [
    "# ロボットの読み込み\n",
    "armStartPos = [0, 0, 0.1]  # 初期位置(x,y,z)を設定\n",
    "armStartOrientation = pybullet.getQuaternionFromEuler([0,0,0])  # 初期姿勢(roll, pitch, yaw)を設定\n",
    "armId = pybullet.loadURDF(\"../urdf/simple2d_arm.urdf\",armStartPos, armStartOrientation, useFixedBase=True) # ロボットが倒れないように、useFixedBase=Trueでルートのリンクを固定\n",
    "\n",
    "# GUIモードの際のカメラの位置などを設定\n",
    "cameraDistance = 1.5\n",
    "cameraYaw = 180.0 # deg\n",
    "cameraPitch = -10 # deg\n",
    "cameraTargetPosition = [0.0, 0.0, 1.0]\n",
    "pybullet.resetDebugVisualizerCamera(cameraDistance, cameraYaw, cameraPitch, cameraTargetPosition)"
   ]
  },
  {
   "cell_type": "markdown",
   "metadata": {},
   "source": [
    "# <a id='toc5_'></a>[シミュレーションの実行](#toc0_)\n",
    "`setJointMotorControl2` では、指定したロボットの指定したジョイントを動作させることができます。\n",
    "\n",
    "最初に、速度指令で動作させるため、第三引数に`POSITION_CONTROL`を指定します。\n"
   ]
  },
  {
   "cell_type": "code",
   "execution_count": 4,
   "metadata": {},
   "outputs": [],
   "source": [
    "import time\n",
    "import math\n",
    "\n",
    "# ロボットの各関節のインデックス\n",
    "link1JointIdx = 0\n",
    "link2JointIdx = 1\n",
    "\n",
    "# 各関節の角度\n",
    "joint1Angle = 90.0\n",
    "joint2Angle = 90.0\n",
    "joint1Rad = math.radians(joint1Angle)\n",
    "joint2Rad = math.radians(joint2Angle)\n",
    "\n",
    "for i in range(200):\n",
    "    # 指定した角度に関節を動かす\n",
    "    pybullet.setJointMotorControl2(armId, link1JointIdx, pybullet.POSITION_CONTROL, targetPosition=joint1Rad)\n",
    "    pybullet.setJointMotorControl2(armId, link2JointIdx, pybullet.POSITION_CONTROL, targetPosition=joint2Rad)\n",
    "    pybullet.stepSimulation()\n",
    "    time.sleep(timeStep)"
   ]
  },
  {
   "cell_type": "markdown",
   "metadata": {},
   "source": [
    "次に、速度指令で動作させるため、第三引数に`VELOCITY_CONTROL`を指定します。"
   ]
  },
  {
   "cell_type": "code",
   "execution_count": 11,
   "metadata": {},
   "outputs": [
    {
     "ename": "",
     "evalue": "",
     "output_type": "error",
     "traceback": [
      "\u001b[1;31mThe Kernel crashed while executing code in the current cell or a previous cell. \n",
      "\u001b[1;31mPlease review the code in the cell(s) to identify a possible cause of the failure. \n",
      "\u001b[1;31mClick <a href='https://aka.ms/vscodeJupyterKernelCrash'>here</a> for more info. \n",
      "\u001b[1;31mView Jupyter <a href='command:jupyter.viewOutput'>log</a> for further details."
     ]
    }
   ],
   "source": [
    "joint1Velocity = 2.0\n",
    "joint2Velocity = 2.0\n",
    "\n",
    "for i in range(500):\n",
    "    # 指定した速度で関節を動かす\n",
    "    pybullet.setJointMotorControl2(armId, link1JointIdx, pybullet.VELOCITY_CONTROL, targetVelocity=joint1Velocity)\n",
    "    pybullet.setJointMotorControl2(armId, link2JointIdx, pybullet.VELOCITY_CONTROL, targetVelocity=joint2Velocity)\n",
    "    pybullet.stepSimulation()\n",
    "    time.sleep(timeStep)"
   ]
  }
 ],
 "metadata": {
  "kernelspec": {
   "display_name": "Python 3",
   "language": "python",
   "name": "python3"
  },
  "language_info": {
   "codemirror_mode": {
    "name": "ipython",
    "version": 3
   },
   "file_extension": ".py",
   "mimetype": "text/x-python",
   "name": "python",
   "nbconvert_exporter": "python",
   "pygments_lexer": "ipython3",
   "version": "3.10.12"
  }
 },
 "nbformat": 4,
 "nbformat_minor": 2
}
