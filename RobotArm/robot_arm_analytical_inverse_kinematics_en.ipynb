{
 "cells": [
  {
   "cell_type": "markdown",
   "metadata": {},
   "source": [
    "**Table of contents**<a id='toc0_'></a>    \n",
    "- [Robot Arm](#toc1_)    \n",
    "- [pybulletの起動](#toc2_)    \n",
    "- [Initial Setup for pybullet](#toc3_)    \n",
    "- [Generating the Robot Arm](#toc4_)    \n",
    "- [Defining Functions for Inverse Kinematics Using Analytical Methods](#toc5_)    \n",
    "- [Running the Simulation](#toc6_)    \n",
    "\n",
    "<!-- vscode-jupyter-toc-config\n",
    "\tnumbering=false\n",
    "\tanchor=true\n",
    "\tflat=false\n",
    "\tminLevel=1\n",
    "\tmaxLevel=6\n",
    "\t/vscode-jupyter-toc-config -->\n",
    "<!-- THIS CELL WILL BE REPLACED ON TOC UPDATE. DO NOT WRITE YOUR TEXT IN THIS CELL -->"
   ]
  },
  {
   "cell_type": "markdown",
   "metadata": {},
   "source": [
    "# <a id='toc1_'></a>[Robot Arm](#toc0_)\n",
    "\n",
    "In this notebook, we will generate a 2-axis robot arm and explain how to solve inverse kinematics using analytical methods.\n",
    "\n",
    "(For a manual summarizing the functions available in pybullet, please refer to [this link](https://github.com/bulletphysics/bullet3/blob/master/docs/pybullet_quickstartguide.pdf).)"
   ]
  },
  {
   "cell_type": "markdown",
   "metadata": {},
   "source": [
    "# <a id='toc2_'></a>[pybulletの起動](#toc0_)"
   ]
  },
  {
   "cell_type": "code",
   "execution_count": 1,
   "metadata": {},
   "outputs": [
    {
     "name": "stderr",
     "output_type": "stream",
     "text": [
      "pybullet build time: Nov 28 2023 23:45:17\n"
     ]
    },
    {
     "name": "stdout",
     "output_type": "stream",
     "text": [
      "startThreads creating 1 threads.\n",
      "starting thread 0\n",
      "started thread 0 \n",
      "argc=2\n",
      "argv[0] = --unused\n",
      "argv[1] = --start_demo_name=Physics Server\n",
      "ExampleBrowserThreadFunc started\n",
      "X11 functions dynamically loaded using dlopen/dlsym OK!\n",
      "X11 functions dynamically loaded using dlopen/dlsym OK!\n",
      "Creating context\n",
      "Created GL 3.3 context\n",
      "Direct GLX rendering context obtained\n",
      "Making context current\n",
      "GL_VENDOR=Mesa\n",
      "GL_RENDERER=llvmpipe (LLVM 15.0.7, 256 bits)\n",
      "GL_VERSION=4.5 (Core Profile) Mesa 23.2.1-1ubuntu3.1~22.04.2\n",
      "GL_SHADING_LANGUAGE_VERSION=4.50\n",
      "pthread_getconcurrency()=0\n",
      "Version = 4.5 (Core Profile) Mesa 23.2.1-1ubuntu3.1~22.04.2\n",
      "Vendor = Mesa\n",
      "Renderer = llvmpipe (LLVM 15.0.7, 256 bits)\n",
      "b3Printf: Selected demo: Physics Server\n",
      "startThreads creating 1 threads.\n",
      "starting thread 0\n",
      "started thread 0 \n",
      "MotionThreadFunc thread started\n"
     ]
    },
    {
     "name": "stdout",
     "output_type": "stream",
     "text": [
      "ven = Mesa\n",
      "ven = Mesa\n"
     ]
    }
   ],
   "source": [
    "import pybullet\n",
    "import pybullet_data\n",
    "physics_client = pybullet.connect(pybullet.GUI) "
   ]
  },
  {
   "cell_type": "markdown",
   "metadata": {},
   "source": [
    "# <a id='toc3_'></a>[Initial Setup for pybullet](#toc0_)"
   ]
  },
  {
   "cell_type": "code",
   "execution_count": 2,
   "metadata": {},
   "outputs": [],
   "source": [
    "pybullet.resetSimulation() # Reset the simulation space\n",
    "pybullet.setAdditionalSearchPath(pybullet_data.getDataPath()) # Add path to necessary data for pybullet\n",
    "pybullet.setGravity(0.0, 0.0, -9.8) # Set gravity as on Earth\n",
    "time_step = 1./240.\n",
    "pybullet.setTimeStep(time_step) # Set the elapsed time per step\n",
    "\n",
    "# Load the floor\n",
    "plane_id = pybullet.loadURDF(\"plane.urdf\")\n",
    "\n",
    "# Set the camera position for GUI mode\n",
    "camera_distance = 2.0\n",
    "camera_yaw = 0.0 # deg\n",
    "camera_pitch = -20 # deg\n",
    "camera_target_position = [0.0, 0.0, 0.0]\n",
    "pybullet.resetDebugVisualizerCamera(camera_distance, camera_yaw, camera_pitch, camera_target_position)"
   ]
  },
  {
   "cell_type": "markdown",
   "metadata": {},
   "source": [
    "# <a id='toc4_'></a>[Generating the Robot Arm](#toc0_)\n",
    "This time, we will generate a 2-axis robot arm `simple_2d_arm.urdf`.  \n",
    "The robot is configured as shown in the diagram below (sensors are explained in `robot_arm_sensor.ipynb`).  \n",
    "\n",
    "![](../images/RobotArm/2d_robot_arm.png)"
   ]
  },
  {
   "cell_type": "code",
   "execution_count": 3,
   "metadata": {},
   "outputs": [
    {
     "name": "stdout",
     "output_type": "stream",
     "text": [
      "b3Printf: b3Warning[examples/Importers/ImportURDFDemo/BulletUrdfImporter.cpp,126]:\n",
      "\n",
      "b3Printf: No inertial data for link, using mass=1, localinertiadiagonal = 1,1,1, identity local inertial frame\n",
      "b3Printf: b3Warning[examples/Importers/ImportURDFDemo/BulletUrdfImporter.cpp,126]:\n",
      "\n",
      "b3Printf: target_position_vertual_link\n"
     ]
    }
   ],
   "source": [
    "# Load the robot\n",
    "arm_start_pos = [0, 0, 0.1]  # Set initial position (x, y, z)\n",
    "arm_start_orientation = pybullet.getQuaternionFromEuler([0, 0, 0])  # Set initial orientation (roll, pitch, yaw)\n",
    "arm_id = pybullet.loadURDF(\"../urdf/simple2d_arm.urdf\", arm_start_pos, arm_start_orientation, useFixedBase=True) # Fix the root link to prevent the robot from falling over by setting useFixedBase=True\n",
    "\n",
    "# Set the camera position for GUI mode\n",
    "camera_distance = 1.5\n",
    "camera_yaw = 180.0 # deg\n",
    "camera_pitch = -10 # deg\n",
    "camera_target_position = [0.0, 0.0, 1.0]\n",
    "pybullet.resetDebugVisualizerCamera(camera_distance, camera_yaw, camera_pitch, camera_target_position)"
   ]
  },
  {
   "cell_type": "markdown",
   "metadata": {},
   "source": [
    "# <a id='toc5_'></a>[Defining Functions for Inverse Kinematics Using Analytical Methods](#toc0_)\n",
    "We will define functions for inverse kinematics using analytical methods.\n",
    "\n",
    "<br>\n",
    "\n",
    "There are two methods for solving inverse kinematics analytically:\n",
    "- Algebraic method\n",
    "- Geometric method"
   ]
  },
  {
   "cell_type": "code",
   "execution_count": 4,
   "metadata": {},
   "outputs": [],
   "source": [
    "import math\n",
    "def inverse_kinematics_2link(link1_length, link2_length, xe, ye):\n",
    "    \"\"\"\n",
    "    Calculate the inverse kinematics of a 2-link robot arm in a 2D plane\n",
    "    \n",
    "    Parameters\n",
    "    ----------\n",
    "    link1_length : float\n",
    "        Length of link 1\n",
    "    link2_length : float\n",
    "        Length of link 2\n",
    "    xe : float\n",
    "        x-coordinate of the end effector\n",
    "    ye : float\n",
    "        y-coordinate of the end effector\n",
    "\n",
    "    Returns\n",
    "    -------\n",
    "    theta1 : float\n",
    "        Joint angle of link 1 (rad)\n",
    "    theta2 : float\n",
    "        Joint angle of link 2 (rad)\n",
    "    \"\"\"\n",
    "    try:\n",
    "        # Inverse kinematics equations derived algebraically\n",
    "        theta1 = -math.acos((xe**2 + ye**2 + link1_length**2 - link2_length**2)/(2 * link1_length * math.sqrt(xe**2 + ye**2))) + math.atan2(ye, xe)\n",
    "        theta2 = math.acos((xe**2 + ye**2 - link1_length**2 - link2_length**2)/(2 * link1_length * link2_length))\n",
    "\n",
    "        # Inverse kinematics equations derived geometrically (uncomment the following lines if you want to try the \"geometric\" method)\n",
    "        # theta1 = math.atan2(ye, xe) - math.acos((-l2**2 + l1**2 + xe**2 + ye**2)/(2 * l1 * math.sqrt(xe**2 + ye**2)))\n",
    "        # theta2 = math.pi - math.acos((-xe**2 - ye**2 + l2**2 + l1**2)/(2 * l2 * l1))\n",
    "    except: # If the input (xe, ye) does not have a solution, output None\n",
    "        theta1 = None\n",
    "        theta2 = None\n",
    "    return theta1, theta2"
   ]
  },
  {
   "cell_type": "markdown",
   "metadata": {},
   "source": [
    "# <a id='toc6_'></a>[Running the Simulation](#toc0_)\n",
    "\n",
    "When the simulation is run, the end-effector of the robot arm will be set to the \"specified end-effector position `(xe, ye)`\".\n"
   ]
  },
  {
   "cell_type": "code",
   "execution_count": 21,
   "metadata": {},
   "outputs": [],
   "source": [
    "# Length of the robot links\n",
    "LINK1_LENGTH = 0.5   # Length of link1 (z-direction length of link1 in \"simple2d_arm.urdf\")\n",
    "LINK2_LENGTH = 0.55  # Length of link2 (z-direction length of link2 + force_sensor_link in \"simple2d_arm.urdf\")\n",
    "\n",
    "# Index of each joint of the robot\n",
    "LINK1_JOINT_IDX = 0\n",
    "LINK2_JOINT_IDX = 1\n",
    "\n",
    "##### Changing this will change the result (please specify a feasible end-effector position) #####\n",
    "# Coordinates of the end effector\n",
    "xe = 0.0\n",
    "ye = 0.8\n",
    "############################################\n",
    "\n",
    "# Calculate inverse kinematics using analytical methods\n",
    "theta1, theta2 = inverse_kinematics_2link(LINK1_LENGTH, LINK2_LENGTH, xe, ye)\n",
    "\n",
    "# Set the joint angles obtained by inverse kinematics to the robot (confirm that the specified end-effector (xe, ye) is set)\n",
    "if theta1 is not None and theta2 is not None:\n",
    "    pybullet.resetJointState(arm_id, LINK1_JOINT_IDX, theta1)\n",
    "    pybullet.resetJointState(arm_id, LINK2_JOINT_IDX, theta2)\n",
    "    pybullet.stepSimulation()\n",
    "else:\n",
    "    print(\"No solution exists for the inverse kinematics\")"
   ]
  }
 ],
 "metadata": {
  "kernelspec": {
   "display_name": "Python 3",
   "language": "python",
   "name": "python3"
  },
  "language_info": {
   "codemirror_mode": {
    "name": "ipython",
    "version": 3
   },
   "file_extension": ".py",
   "mimetype": "text/x-python",
   "name": "python",
   "nbconvert_exporter": "python",
   "pygments_lexer": "ipython3",
   "version": "3.10.12"
  }
 },
 "nbformat": 4,
 "nbformat_minor": 2
}
