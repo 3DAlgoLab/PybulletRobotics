{
 "cells": [
  {
   "cell_type": "markdown",
   "metadata": {},
   "source": [
    "# pybulletとは\n",
    "pybulletは、物理シミュレーションエンジンの一つであり、ロボットの制御や物理シミュレーションを行うためのライブラリです。\n",
    "\n",
    "ロボットのシミュレーションや制御にはROS（Robot Operating System）が使われることが多いですが、ROSは環境構築が複雑です。一方で、pybulletはpythonのライブラリなので、pythonが使える環境であれば簡単に扱うことができます。\n",
    "\n",
    "こちらでは、基本的な機能のみを紹介します。  \n",
    "pybulletで使用可能な関数がまとめられたマニュアルについては[こちら](https://github.com/bulletphysics/bullet3/blob/master/docs/pybullet_quickstartguide.pdf)を参照してください。"
   ]
  },
  {
   "cell_type": "markdown",
   "metadata": {},
   "source": [
    "# 必要なライブラリのインポート\n",
    "\n",
    "pybulletを使用する際は、`pybullet`をインポートする必要があります。   \n",
    "また、pybulletに使用するファイルを読み込むために`import pybullet_data`もインポートします。"
   ]
  },
  {
   "cell_type": "code",
   "execution_count": 1,
   "metadata": {},
   "outputs": [
    {
     "name": "stderr",
     "output_type": "stream",
     "text": [
      "pybullet build time: Nov 28 2023 23:45:17\n"
     ]
    }
   ],
   "source": [
    "import pybullet\n",
    "import pybullet_data"
   ]
  },
  {
   "cell_type": "markdown",
   "metadata": {},
   "source": [
    "# pybulletの起動\n",
    "pybulletを使用する際は、`pybullet.connect`を使用して、物理シミュレーションを行うためのサーバーを起動します。\n",
    "\n",
    "サーバの種類には以下の種類が存在します\n",
    "- `pybullet.GUI`\n",
    "- `pybullet.DIRECT`\n",
    "- `pybullet.SHARED_MEMORY`\n",
    "- `pybullet.UDP`\n",
    "- `pybullet.TCP`\n",
    "\n",
    "基本的には、CUIで使用する場合は`pybullet.DIRECT`、GUIで使用する場合は`pybullet.GUI`を使用します。\n",
    "\n",
    "<br>\n",
    "\n",
    "今回はGUIを使用するため、`pybullet.GUI`を指定してサーバーを起動します。\n",
    "以下セルを実行すると、pybulletのGUIが起動されます。  \n",
    "（google colabなどではGUIが表示されないため、`pybullet.DIRECT`を指定してサーバーを起動する必要があります。）"
   ]
  },
  {
   "cell_type": "code",
   "execution_count": 2,
   "metadata": {},
   "outputs": [
    {
     "name": "stdout",
     "output_type": "stream",
     "text": [
      "startThreads creating 1 threads.\n",
      "starting thread 0\n",
      "started thread 0 \n",
      "argc=2\n",
      "argv[0] = --unused\n",
      "argv[1] = --start_demo_name=Physics Server\n",
      "ExampleBrowserThreadFunc started\n",
      "X11 functions dynamically loaded using dlopen/dlsym OK!\n",
      "X11 functions dynamically loaded using dlopen/dlsym OK!\n",
      "Creating context\n",
      "Created GL 3.3 context\n",
      "Direct GLX rendering context obtained\n",
      "Making context current\n",
      "GL_VENDOR=Microsoft Corporation\n",
      "GL_RENDERER=D3D12 (AMD Radeon Graphics)\n",
      "GL_VERSION=4.2 (Core Profile) Mesa 23.2.1-1ubuntu3.1~22.04.2\n",
      "GL_SHADING_LANGUAGE_VERSION=4.20\n",
      "pthread_getconcurrency()=0\n",
      "Version = 4.2 (Core Profile) Mesa 23.2.1-1ubuntu3.1~22.04.2\n",
      "Vendor = Microsoft Corporation\n",
      "Renderer = D3D12 (AMD Radeon Graphics)\n",
      "b3Printf: Selected demo: Physics Server\n",
      "startThreads creating 1 threads.\n",
      "starting thread 0\n",
      "started thread 0 \n",
      "MotionThreadFunc thread started\n"
     ]
    },
    {
     "name": "stdout",
     "output_type": "stream",
     "text": [
      "ven = Microsoft Corporation\n",
      "ven = Microsoft Corporation\n"
     ]
    }
   ],
   "source": [
    "physicsClient = pybullet.connect(pybullet.GUI) "
   ]
  },
  {
   "cell_type": "markdown",
   "metadata": {},
   "source": [
    "# シミュレーションの初期設定\n",
    "シミュレーションを開始するにあたって、初期設定を行います。\n",
    "- シミュレーション空間のリセット\n",
    "- pybulletに必要なデータへのパスの追加\n",
    "- 重力の設定\n",
    "- 1stepあたりに経過する時間（秒単位）"
   ]
  },
  {
   "cell_type": "code",
   "execution_count": 10,
   "metadata": {},
   "outputs": [],
   "source": [
    "pybullet.resetSimulation() # シミュレーション空間をリセット\n",
    "pybullet.setAdditionalSearchPath(pybullet_data.getDataPath()) # pybulletに必要なデータへのパスを追加\n",
    "pybullet.setGravity(0.0, 0.0, -9.8) # 地球上における重力に設定\n",
    "timeStep = 1./240.\n",
    "pybullet.setTimeStep(timeStep) # 1stepあたりに経過する時間の設定"
   ]
  },
  {
   "cell_type": "markdown",
   "metadata": {},
   "source": [
    "# 床の読み込み\n",
    "pybulletでは、標準で幾つかのモデルが用意されています。ここでは、その中で床が定義されているファイルである `plane.urdf`を読み込みます。  \n",
    "\n",
    "---\n",
    "\n",
    "urdfファイルは「ロボットモデルについて定義されるxml形式のファイル」になり、ロボットのリンクやジョイントについて定義できます。  \n",
    "基本的には、ロボットに関して定義するものになりますが、`plane.urdf`では、ロボットではなく床のモデルが定義されています。\n",
    "\n",
    "---"
   ]
  },
  {
   "cell_type": "code",
   "execution_count": 11,
   "metadata": {},
   "outputs": [],
   "source": [
    "#床の読み込み\n",
    "planeId = pybullet.loadURDF(\"plane.urdf\")"
   ]
  },
  {
   "cell_type": "markdown",
   "metadata": {},
   "source": [
    "# 物体の読み込み\n",
    "`createCollisionShape` `createVisualShape` `createMultiBody`関数を使用することで、任意のサイズのオブジェクト（ボックスや球など）"
   ]
  },
  {
   "cell_type": "code",
   "execution_count": 12,
   "metadata": {},
   "outputs": [],
   "source": [
    "# ボックスの読み込み\n",
    "## ボックスの重さ、サイズ、位置·姿勢を決める\n",
    "mass = 5 # kg\n",
    "box_size = [0.3, 0.3, 0.3]\n",
    "position = [2, 0, 0.3]\n",
    "orientation = [1, 0, 0, 0] # 四元数\n",
    "box_cid = pybullet.createCollisionShape(pybullet.GEOM_BOX, halfExtents=box_size, physicsClientId=physicsClient)\n",
    "box_vid = pybullet.createVisualShape(pybullet.GEOM_BOX, halfExtents=box_size, physicsClientId=physicsClient, rgbaColor=[1,0,0,1]) # 赤・半透明\n",
    "box_bid = pybullet.createMultiBody(mass, box_cid, box_vid, position, orientation, physicsClientId=physicsClient)"
   ]
  },
  {
   "cell_type": "markdown",
   "metadata": {},
   "source": [
    "# ロボットの読み込み\n",
    "自身で定義したロボットのurdfファイルを読み込みます。\n",
    "`loadURDF`関数の引数に「urdfファイルまでのパス」を指定することでロボットを生成することができます"
   ]
  },
  {
   "cell_type": "code",
   "execution_count": 13,
   "metadata": {},
   "outputs": [],
   "source": [
    "# ロボットの読み込み\n",
    "carStartPos = [0, 0, 0.1]  # 初期位置(x,y,z)を設定\n",
    "carStartOrientation = pybullet.getQuaternionFromEuler([0,0,0])  # 初期姿勢(roll, pitch, yaw)を設定\n",
    "# urdfファイルのmeshはテクスチャが反映されないっぽいので各linkにrgbaタグで色を付けている\n",
    "carId = pybullet.loadURDF(\"../urdf/simple_two_wheel_car.urdf\",carStartPos, carStartOrientation)"
   ]
  },
  {
   "cell_type": "markdown",
   "metadata": {},
   "source": [
    "# カメラ位置の設定\n",
    "`resetDebugVisualizerCamera`関数で、GUIモードの際のカメラを設定できます。"
   ]
  },
  {
   "cell_type": "code",
   "execution_count": 14,
   "metadata": {},
   "outputs": [],
   "source": [
    "# GUIモードの際のカメラの位置などを設定\n",
    "cameraDistance = 4.0\n",
    "cameraYaw = 0.0 # deg\n",
    "cameraPitch = -20 # deg\n",
    "cameraTargetPosition = [0.0, 0.0, 0.0]\n",
    "pybullet.resetDebugVisualizerCamera(cameraDistance, cameraYaw, cameraPitch, cameraTargetPosition)"
   ]
  },
  {
   "cell_type": "markdown",
   "metadata": {},
   "source": [
    "# デバック用の文字表示\n",
    "`addUserDebugText`関数を使用することで、シミュレーション空間上の任意の位置にテキストを表示させることができます。  \n",
    "\n",
    "他にも、`addUserDebugLine`では、シミュレーション空間上の任意の2点間を結ぶを結ぶ線を描画することができ、移動ロボットの移動経路やロボットアームの手先の軌跡などを描画する際に便利です。\n",
    "\n",
    "このように、pybulletではシミュレーション結果を可視化するのに便利な機能が搭載されています。"
   ]
  },
  {
   "cell_type": "code",
   "execution_count": 15,
   "metadata": {},
   "outputs": [
    {
     "data": {
      "text/plain": [
       "0"
      ]
     },
     "execution_count": 15,
     "metadata": {},
     "output_type": "execute_result"
    }
   ],
   "source": [
    "# 画面上に文字を表示\n",
    "textPosition = [0.0, 0.0, 2.0]\n",
    "lifeTime = 10.0 # 表示期間（秒）\n",
    "pybullet.addUserDebugText(f\"test text\", textPosition, textSize=2, lifeTime=lifeTime)"
   ]
  },
  {
   "cell_type": "markdown",
   "metadata": {},
   "source": [
    "# シミュレーションの実行\n",
    "`stepSimulation`関数を使用すると、`setTimeStep`で設定した時間分シミュレーション空間上で時間が経過します。  \n",
    "ここでは、移動ロボットの両輪に速度指令を与えて200時刻分シミュレーションを実行しています。\n"
   ]
  },
  {
   "cell_type": "code",
   "execution_count": 22,
   "metadata": {},
   "outputs": [],
   "source": [
    "import time\n",
    "rightWheelJointIdx = 0\n",
    "leftWheelJointIdx = 1\n",
    "for i in range(200):\n",
    "    pybullet.setJointMotorControl2(carId, leftWheelJointIdx, pybullet.VELOCITY_CONTROL, targetVelocity=10)\n",
    "    pybullet.setJointMotorControl2(carId, rightWheelJointIdx, pybullet.VELOCITY_CONTROL, targetVelocity=10)\n",
    "    pybullet.stepSimulation()\n",
    "    time.sleep(timeStep)"
   ]
  }
 ],
 "metadata": {
  "kernelspec": {
   "display_name": "Python 3",
   "language": "python",
   "name": "python3"
  },
  "language_info": {
   "codemirror_mode": {
    "name": "ipython",
    "version": 3
   },
   "file_extension": ".py",
   "mimetype": "text/x-python",
   "name": "python",
   "nbconvert_exporter": "python",
   "pygments_lexer": "ipython3",
   "version": "3.10.12"
  }
 },
 "nbformat": 4,
 "nbformat_minor": 2
}
