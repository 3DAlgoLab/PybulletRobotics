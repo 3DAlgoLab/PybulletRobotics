{
 "cells": [
  {
   "cell_type": "markdown",
   "metadata": {},
   "source": [
    "**Table of contents**<a id='toc0_'></a>    \n",
    "- [移動ロボット](#toc1_)    \n",
    "- [pybulletの起動](#toc2_)    \n",
    "- [初期設定](#toc3_)    \n",
    "- [パラメータなどの設定](#toc4_)    \n",
    "- [オドメトリの推定](#toc5_)    \n",
    "- [（おまけ）摩擦の変更](#toc6_)    \n",
    "\n",
    "<!-- vscode-jupyter-toc-config\n",
    "\tnumbering=false\n",
    "\tanchor=true\n",
    "\tflat=false\n",
    "\tminLevel=1\n",
    "\tmaxLevel=6\n",
    "\t/vscode-jupyter-toc-config -->\n",
    "<!-- THIS CELL WILL BE REPLACED ON TOC UPDATE. DO NOT WRITE YOUR TEXT IN THIS CELL -->"
   ]
  },
  {
   "cell_type": "markdown",
   "metadata": {},
   "source": [
    "# <a id='toc1_'></a>[移動ロボット](#toc0_)\n",
    "\n",
    "\n",
    "\n",
    "（pybulletで使用可能な関数がまとめられたマニュアルについては[こちら](https://github.com/bulletphysics/bullet3/blob/master/docs/pybullet_quickstartguide.pdf)を参照してください。）"
   ]
  },
  {
   "cell_type": "markdown",
   "metadata": {},
   "source": [
    "# <a id='toc2_'></a>[pybulletの起動](#toc0_)"
   ]
  },
  {
   "cell_type": "code",
   "execution_count": 1,
   "metadata": {},
   "outputs": [
    {
     "name": "stderr",
     "output_type": "stream",
     "text": [
      "pybullet build time: Nov 28 2023 23:45:17\n"
     ]
    },
    {
     "name": "stdout",
     "output_type": "stream",
     "text": [
      "startThreads creating 1 threads.\n",
      "starting thread 0\n",
      "started thread 0 \n",
      "argc=2\n",
      "argv[0] = --unused\n",
      "argv[1] = --start_demo_name=Physics Server\n",
      "ExampleBrowserThreadFunc started\n",
      "X11 functions dynamically loaded using dlopen/dlsym OK!\n",
      "X11 functions dynamically loaded using dlopen/dlsym OK!\n",
      "Creating context\n",
      "Created GL 3.3 context\n",
      "Direct GLX rendering context obtained\n",
      "Making context current\n",
      "GL_VENDOR=Mesa\n",
      "GL_RENDERER=llvmpipe (LLVM 15.0.7, 256 bits)\n",
      "GL_VERSION=4.5 (Core Profile) Mesa 23.2.1-1ubuntu3.1~22.04.2\n",
      "GL_SHADING_LANGUAGE_VERSION=4.50\n",
      "pthread_getconcurrency()=0\n",
      "Version = 4.5 (Core Profile) Mesa 23.2.1-1ubuntu3.1~22.04.2\n",
      "Vendor = Mesa\n",
      "Renderer = llvmpipe (LLVM 15.0.7, 256 bits)\n",
      "b3Printf: Selected demo: Physics Server\n",
      "startThreads creating 1 threads.\n",
      "starting thread 0\n",
      "started thread 0 \n",
      "MotionThreadFunc thread started\n"
     ]
    }
   ],
   "source": [
    "import time\n",
    "import pybullet\n",
    "import pybullet_data\n",
    "physics_client = pybullet.connect(pybullet.GUI) "
   ]
  },
  {
   "cell_type": "markdown",
   "metadata": {},
   "source": [
    "# <a id='toc3_'></a>[初期設定](#toc0_)\n",
    "\n",
    "床の生成、ロボットの生成、カメラ位置の設定などの初期設定を行います。"
   ]
  },
  {
   "cell_type": "code",
   "execution_count": 2,
   "metadata": {},
   "outputs": [
    {
     "name": "stdout",
     "output_type": "stream",
     "text": [
      "ven = Mesa\n",
      "ven = Mesa\n"
     ]
    }
   ],
   "source": [
    "pybullet.resetSimulation() # シミュレーション空間をリセット\n",
    "pybullet.setAdditionalSearchPath(pybullet_data.getDataPath()) # pybulletに必要なデータへのパスを追加\n",
    "pybullet.setGravity(0.0, 0.0, -9.8) # 地球上における重力に設定\n",
    "time_step = 1./240.\n",
    "pybullet.setTimeStep(time_step)\n",
    "\n",
    "#床の読み込み\n",
    "plane_id = pybullet.loadURDF(\"plane.urdf\")\n",
    "\n",
    "# ロボットの読み込み\n",
    "car_start_pos = [0, 0, 0.1]  # 初期位置(x,y,z)を設定\n",
    "car_start_orientation = pybullet.getQuaternionFromEuler([0,0,0])  # 初期姿勢(roll, pitch, yaw)を設定\n",
    "car_id = pybullet.loadURDF(\"../urdf/simple_two_wheel_car.urdf\",car_start_pos, car_start_orientation)\n",
    "\n",
    "# GUIモードの際のカメラの位置などを設定\n",
    "camera_distance = 2.0\n",
    "camera_yaw = 180.0 # deg\n",
    "camera_pitch = -90.1 # deg\n",
    "camera_target_position = [0.0, 0.0, 0.0]\n",
    "pybullet.resetDebugVisualizerCamera(camera_distance, camera_yaw, camera_pitch, camera_target_position)"
   ]
  },
  {
   "cell_type": "code",
   "execution_count": 3,
   "metadata": {},
   "outputs": [],
   "source": [
    "import math\n",
    "\n",
    "class WheelOdometry:\n",
    "    def __init__(self, wheel_radius, wheel_tread, const_right_wheel, const_left_wheel, initial_angle_right_wheel, initial_angle_left_wheel):\n",
    "        # ホイールのサイズに関する定数\n",
    "        self.WHEEL_DIAMETER = wheel_radius * 2\n",
    "        self.WHEEL_TREAD = wheel_tread\n",
    "\n",
    "        # 環境やタイヤの材質などを考慮した定数\n",
    "        self.CONSTANT_RIGHT_WHEEL = const_right_wheel\n",
    "        self.CONSTANT_LEFT_WHEEL = const_left_wheel\n",
    "\n",
    "        # 1回転あたりの距離\n",
    "        self.ONE_REVOLUTION_DISTANCE_RIGHT = math.pi * self.WHEEL_DIAMETER * self.CONSTANT_LEFT_WHEEL\n",
    "        self.ONE_REVOLUTION_DISTANCE_LEFT = math.pi * self.WHEEL_DIAMETER * self.CONSTANT_RIGHT_WHEEL\n",
    "\n",
    "        # ロボットの初期位置と姿勢 (x, y, theta)\n",
    "        self.x = 0.0\n",
    "        self.y = 0.0\n",
    "        self.theta = 0.0\n",
    "\n",
    "        # 前回のホイール角度\n",
    "        self.last_angle_right_wheel = initial_angle_right_wheel\n",
    "        self.last_angle_left_wheel = initial_angle_left_wheel\n",
    "\n",
    "    def update_wheel_angles(self, current_angle_right_wheel, current_angle_left_wheel):\n",
    "        # 左右のホイールの「回転角度の微小変化量[ΔΘ]」を計算\n",
    "        delta_angle_right_wheel = current_angle_right_wheel - self.last_angle_right_wheel\n",
    "        delta_angle_left_wheel = current_angle_left_wheel - self.last_angle_left_wheel\n",
    "\n",
    "        # 左右のホイールの「回転角度の微小変化量[Δθ]」から、「回転数」を計算（2π → 1回転 となるように変換）\n",
    "        revolution_right_wheel = delta_angle_right_wheel / (2.0 * math.pi)\n",
    "        revolution_left_wheel = delta_angle_left_wheel / (2.0 * math.pi)\n",
    "\n",
    "        # 左右のホイールが「移動した距離[m]」を計算\n",
    "        distance_right_wheel = revolution_right_wheel * self.ONE_REVOLUTION_DISTANCE_RIGHT\n",
    "        distance_left_wheel = revolution_left_wheel * self.ONE_REVOLUTION_DISTANCE_LEFT\n",
    "\n",
    "        # 左右の移動距離から、「平均移動距離[m]」を計算\n",
    "        distance_avg = (distance_right_wheel + distance_left_wheel) / 2.0\n",
    "\n",
    "        # ロボットの姿勢（θ）を更新\n",
    "        new_theta = self.theta + math.atan2(distance_right_wheel - distance_left_wheel, self.WHEEL_TREAD)\n",
    "\n",
    "        # thetaを -π から π の範囲に収める\n",
    "        if new_theta > math.pi:\n",
    "            new_theta -= 2 * math.pi\n",
    "        elif new_theta < -math.pi:\n",
    "            new_theta += 2 * math.pi\n",
    "\n",
    "        # ロボットの位置(x, y)を更新\n",
    "        self.x += distance_avg * math.cos(new_theta)\n",
    "        self.y += distance_avg * math.sin(new_theta)\n",
    "        self.theta = new_theta\n",
    "\n",
    "        # 現在のホイール角度を保存\n",
    "        self.last_angle_right_wheel = current_angle_right_wheel\n",
    "        self.last_angle_left_wheel = current_angle_left_wheel\n",
    "\n",
    "    def get_position(self):\n",
    "        # ロボットの現在の位置と姿勢を返す\n",
    "        return self.x, self.y, self.theta\n",
    "\n",
    "\n"
   ]
  },
  {
   "cell_type": "markdown",
   "metadata": {},
   "source": [
    "# <a id='toc4_'></a>[パラメータなどの設定](#toc0_)"
   ]
  },
  {
   "cell_type": "code",
   "execution_count": 4,
   "metadata": {},
   "outputs": [
    {
     "data": {
      "text/plain": [
       "1"
      ]
     },
     "execution_count": 4,
     "metadata": {},
     "output_type": "execute_result"
    }
   ],
   "source": [
    "# 左右の車輪のジョイントのインデックス\n",
    "RIGHT_WHEEL_IDX = 0\n",
    "LEFT_WHEEL_IDX = 1\n",
    "\n",
    "# 車輪に関する定数\n",
    "WHEEL_RADIUS = 0.05 # 車輪の半径(「simple_two_wheel_car.urdf」の車輪の半径と一致させる)\n",
    "WHEEL_THREAD = 0.325 # 車輪の間隔(「simple_two_wheel_car.urdf」の車輪の間隔と一致させる)\n",
    "CONST_RIGHT_WHEEL = 1.0 # 右車輪の定数（摩擦や材質などを考慮した定数）\n",
    "CONST_LEFT_WHEEL = 1.0 # 左車輪の定数（摩擦や材質などを考慮した定数）\n",
    "\n",
    "# 左右の車輪の速度を変更するスライダーを作成\n",
    "pybullet.addUserDebugParameter(\"right_wheel_velocity\", -10, 10, 0)\n",
    "pybullet.addUserDebugParameter(\"left_wheel_velocity\", -10, 10, 0)"
   ]
  },
  {
   "cell_type": "markdown",
   "metadata": {},
   "source": [
    "# <a id='toc5_'></a>[オドメトリの推定](#toc0_)\n",
    "\n",
    "シミュレーションを実行すると、右側に左右の車輪の速度を変更するためのスライダーを変更することで、ロボットを動かすことができます。\n",
    "\n",
    "また、画面上に「真のロボットの位置」と「オドメトリによって推定されたロボットの位置」が表示されます。"
   ]
  },
  {
   "cell_type": "code",
   "execution_count": 6,
   "metadata": {},
   "outputs": [
    {
     "name": "stdout",
     "output_type": "stream",
     "text": [
      "【Estimate Pose x:-0.49, y:-0.02, theta:19.00】【True Pose x:-0.46, y:0.04, theta:13.85】                       "
     ]
    },
    {
     "ename": "KeyboardInterrupt",
     "evalue": "",
     "output_type": "error",
     "traceback": [
      "\u001b[0;31m---------------------------------------------------------------------------\u001b[0m",
      "\u001b[0;31mKeyboardInterrupt\u001b[0m                         Traceback (most recent call last)",
      "Cell \u001b[0;32mIn[6], line 53\u001b[0m\n\u001b[1;32m     51\u001b[0m         replace_pose_texts\u001b[38;5;241m.\u001b[39mappend(pybullet\u001b[38;5;241m.\u001b[39maddUserDebugText(\u001b[38;5;124mf\u001b[39m\u001b[38;5;124m\"\u001b[39m\u001b[38;5;124mTure Pose x:\u001b[39m\u001b[38;5;132;01m{\u001b[39;00mtrue_x\u001b[38;5;132;01m:\u001b[39;00m\u001b[38;5;124m.2f\u001b[39m\u001b[38;5;132;01m}\u001b[39;00m\u001b[38;5;124m, y:\u001b[39m\u001b[38;5;132;01m{\u001b[39;00mtrue_y\u001b[38;5;132;01m:\u001b[39;00m\u001b[38;5;124m.2f\u001b[39m\u001b[38;5;132;01m}\u001b[39;00m\u001b[38;5;124m, theta:\u001b[39m\u001b[38;5;132;01m{\u001b[39;00mmath\u001b[38;5;241m.\u001b[39mdegrees(true_theta)\u001b[38;5;132;01m:\u001b[39;00m\u001b[38;5;124m.2f\u001b[39m\u001b[38;5;132;01m}\u001b[39;00m\u001b[38;5;124m\"\u001b[39m, [\u001b[38;5;241m-\u001b[39m\u001b[38;5;241m1.0\u001b[39m, \u001b[38;5;241m-\u001b[39m\u001b[38;5;241m0.7\u001b[39m, \u001b[38;5;241m0.0\u001b[39m], textColorRGB\u001b[38;5;241m=\u001b[39m[\u001b[38;5;241m0\u001b[39m,\u001b[38;5;241m1\u001b[39m,\u001b[38;5;241m0\u001b[39m], textSize\u001b[38;5;241m=\u001b[39m\u001b[38;5;241m1.5\u001b[39m))\n\u001b[1;32m     52\u001b[0m     \u001b[38;5;28;01melse\u001b[39;00m:\n\u001b[0;32m---> 53\u001b[0m         \u001b[43mpybullet\u001b[49m\u001b[38;5;241;43m.\u001b[39;49m\u001b[43maddUserDebugText\u001b[49m\u001b[43m(\u001b[49m\u001b[38;5;124;43mf\u001b[39;49m\u001b[38;5;124;43m\"\u001b[39;49m\u001b[38;5;124;43mEstimate Pose x:\u001b[39;49m\u001b[38;5;132;43;01m{\u001b[39;49;00m\u001b[43modom_x\u001b[49m\u001b[38;5;132;43;01m:\u001b[39;49;00m\u001b[38;5;124;43m.2f\u001b[39;49m\u001b[38;5;132;43;01m}\u001b[39;49;00m\u001b[38;5;124;43m, y:\u001b[39;49m\u001b[38;5;132;43;01m{\u001b[39;49;00m\u001b[43modom_y\u001b[49m\u001b[38;5;132;43;01m:\u001b[39;49;00m\u001b[38;5;124;43m.2f\u001b[39;49m\u001b[38;5;132;43;01m}\u001b[39;49;00m\u001b[38;5;124;43m, theta:\u001b[39;49m\u001b[38;5;132;43;01m{\u001b[39;49;00m\u001b[43mmath\u001b[49m\u001b[38;5;241;43m.\u001b[39;49m\u001b[43mdegrees\u001b[49m\u001b[43m(\u001b[49m\u001b[43modom_theta\u001b[49m\u001b[43m)\u001b[49m\u001b[38;5;132;43;01m:\u001b[39;49;00m\u001b[38;5;124;43m.2f\u001b[39;49m\u001b[38;5;132;43;01m}\u001b[39;49;00m\u001b[38;5;124;43m\"\u001b[39;49m\u001b[43m,\u001b[49m\u001b[43m \u001b[49m\u001b[43m[\u001b[49m\u001b[38;5;241;43m-\u001b[39;49m\u001b[38;5;241;43m1.0\u001b[39;49m\u001b[43m,\u001b[49m\u001b[43m \u001b[49m\u001b[38;5;241;43m-\u001b[39;49m\u001b[38;5;241;43m0.5\u001b[39;49m\u001b[43m,\u001b[49m\u001b[43m \u001b[49m\u001b[38;5;241;43m0.0\u001b[39;49m\u001b[43m]\u001b[49m\u001b[43m,\u001b[49m\u001b[43m \u001b[49m\u001b[43mtextColorRGB\u001b[49m\u001b[38;5;241;43m=\u001b[39;49m\u001b[43m[\u001b[49m\u001b[38;5;241;43m1\u001b[39;49m\u001b[43m,\u001b[49m\u001b[38;5;241;43m0\u001b[39;49m\u001b[43m,\u001b[49m\u001b[38;5;241;43m0\u001b[39;49m\u001b[43m]\u001b[49m\u001b[43m,\u001b[49m\u001b[43m \u001b[49m\u001b[43mtextSize\u001b[49m\u001b[38;5;241;43m=\u001b[39;49m\u001b[38;5;241;43m1.5\u001b[39;49m\u001b[43m,\u001b[49m\u001b[43m \u001b[49m\u001b[43mreplaceItemUniqueId\u001b[49m\u001b[38;5;241;43m=\u001b[39;49m\u001b[43mreplace_pose_texts\u001b[49m\u001b[43m[\u001b[49m\u001b[38;5;241;43m0\u001b[39;49m\u001b[43m]\u001b[49m\u001b[43m)\u001b[49m\n\u001b[1;32m     54\u001b[0m         pybullet\u001b[38;5;241m.\u001b[39maddUserDebugText(\u001b[38;5;124mf\u001b[39m\u001b[38;5;124m\"\u001b[39m\u001b[38;5;124mTure Pose x:\u001b[39m\u001b[38;5;132;01m{\u001b[39;00mtrue_x\u001b[38;5;132;01m:\u001b[39;00m\u001b[38;5;124m.2f\u001b[39m\u001b[38;5;132;01m}\u001b[39;00m\u001b[38;5;124m, y:\u001b[39m\u001b[38;5;132;01m{\u001b[39;00mtrue_y\u001b[38;5;132;01m:\u001b[39;00m\u001b[38;5;124m.2f\u001b[39m\u001b[38;5;132;01m}\u001b[39;00m\u001b[38;5;124m, theta:\u001b[39m\u001b[38;5;132;01m{\u001b[39;00mmath\u001b[38;5;241m.\u001b[39mdegrees(true_theta)\u001b[38;5;132;01m:\u001b[39;00m\u001b[38;5;124m.2f\u001b[39m\u001b[38;5;132;01m}\u001b[39;00m\u001b[38;5;124m\"\u001b[39m, [\u001b[38;5;241m-\u001b[39m\u001b[38;5;241m1.0\u001b[39m, \u001b[38;5;241m-\u001b[39m\u001b[38;5;241m0.7\u001b[39m, \u001b[38;5;241m0.0\u001b[39m], textColorRGB\u001b[38;5;241m=\u001b[39m[\u001b[38;5;241m0\u001b[39m,\u001b[38;5;241m1\u001b[39m,\u001b[38;5;241m0\u001b[39m], textSize\u001b[38;5;241m=\u001b[39m\u001b[38;5;241m1.5\u001b[39m, replaceItemUniqueId\u001b[38;5;241m=\u001b[39mreplace_pose_texts[\u001b[38;5;241m1\u001b[39m])\n\u001b[1;32m     56\u001b[0m \u001b[38;5;66;03m# print文でも同様に表示\u001b[39;00m\n",
      "\u001b[0;31mKeyboardInterrupt\u001b[0m: "
     ]
    }
   ],
   "source": [
    "import sys\n",
    "\n",
    "# debug用の描画を初期化\n",
    "pybullet.removeAllUserDebugItems()\n",
    "replace_pose_texts = []\n",
    "\n",
    "# ロボットを初期位置にセット\n",
    "car_start_pos = [0, 0, 0.1]\n",
    "car_start_orientation = pybullet.getQuaternionFromEuler([0.0, 0.0, 0.0])\n",
    "pybullet.resetBasePositionAndOrientation(car_id, car_start_pos, car_start_orientation)\n",
    "\n",
    "# 左右の車輪の回転角度の初期値を取得\n",
    "initial_angle_right_wheel = pybullet.getJointState(car_id, RIGHT_WHEEL_IDX)[0]\n",
    "initial_angle_left_wheel = pybullet.getJointState(car_id, LEFT_WHEEL_IDX)[0]\n",
    "\n",
    "# オドメトリクラスのインスタンス化\n",
    "wheel_odometry = WheelOdometry(wheel_radius=WHEEL_RADIUS, wheel_tread=WHEEL_THREAD, const_right_wheel=CONST_RIGHT_WHEEL, const_left_wheel=CONST_LEFT_WHEEL, initial_angle_right_wheel=initial_angle_right_wheel, initial_angle_left_wheel=initial_angle_left_wheel)\n",
    "\n",
    "enable_debug_text = False # PybulletのGUI画面上にデバッグ用のテキストを表示するかどうか（Trueにすると、処理が重く処理が重くなるので注意）\n",
    "\n",
    "# スライダーの設定された値に応じて、移動ロボットを制御し、オドメトリを計算\n",
    "while True:\n",
    "    # スライダーの値を取得\n",
    "    right_wheel_velocity = pybullet.readUserDebugParameter(0)\n",
    "    left_wheel_velocity = pybullet.readUserDebugParameter(1)\n",
    "\n",
    "    # 2輪を前進するように速度制御\n",
    "    pybullet.setJointMotorControl2(car_id, RIGHT_WHEEL_IDX, pybullet.VELOCITY_CONTROL, targetVelocity=right_wheel_velocity)\n",
    "    pybullet.setJointMotorControl2(car_id, LEFT_WHEEL_IDX, pybullet.VELOCITY_CONTROL, targetVelocity=left_wheel_velocity)\n",
    "    pybullet.stepSimulation()\n",
    "\n",
    "    # 現在の車輪の回転角度を取得\n",
    "    current_angle_wheel_right = pybullet.getJointState(car_id, RIGHT_WHEEL_IDX)[0]\n",
    "    current_angle_wheel_left = pybullet.getJointState(car_id, LEFT_WHEEL_IDX)[0]\n",
    "\n",
    "    # オドメトリの計算\n",
    "    wheel_odometry.update_wheel_angles(current_angle_wheel_right, current_angle_wheel_left)\n",
    "    odom_x, odom_y, odom_theta = wheel_odometry.get_position()\n",
    "\n",
    "    # 真の位置・姿勢を取得\n",
    "    true_car_pos, true_car_orientation = pybullet.getBasePositionAndOrientation(car_id)\n",
    "    true_x = true_car_pos[0]\n",
    "    true_y = true_car_pos[1]\n",
    "    true_euler = pybullet.getEulerFromQuaternion(true_car_orientation)\n",
    "    true_theta = true_euler[2]\n",
    "    \n",
    "    # pybulletの画面上に推定した位置・姿勢と実際の位置・姿勢を表示\n",
    "    if enable_debug_text:\n",
    "        if len(replace_pose_texts) == 0:\n",
    "            replace_pose_texts.append(pybullet.addUserDebugText(f\"Estimate Pose x:{odom_x:.2f}, y:{odom_y:.2f}, theta:{math.degrees(odom_theta):.2f}\", [-1.0, -0.5, 0.0], textColorRGB=[1,0,0], textSize=1.5))\n",
    "            replace_pose_texts.append(pybullet.addUserDebugText(f\"Ture Pose x:{true_x:.2f}, y:{true_y:.2f}, theta:{math.degrees(true_theta):.2f}\", [-1.0, -0.7, 0.0], textColorRGB=[0,1,0], textSize=1.5))\n",
    "        else:\n",
    "            pybullet.addUserDebugText(f\"Estimate Pose x:{odom_x:.2f}, y:{odom_y:.2f}, theta:{math.degrees(odom_theta):.2f}\", [-1.0, -0.5, 0.0], textColorRGB=[1,0,0], textSize=1.5, replaceItemUniqueId=replace_pose_texts[0])\n",
    "            pybullet.addUserDebugText(f\"Ture Pose x:{true_x:.2f}, y:{true_y:.2f}, theta:{math.degrees(true_theta):.2f}\", [-1.0, -0.7, 0.0], textColorRGB=[0,1,0], textSize=1.5, replaceItemUniqueId=replace_pose_texts[1])\n",
    "    \n",
    "    # print文でも同様に表示\n",
    "    sys.stdout.write(f\"\\r【Estimate Pose x:{odom_x:.2f}, y:{odom_y:.2f}, theta:{math.degrees(odom_theta):.2f}】【True Pose x:{true_x:.2f}, y:{true_y:.2f}, theta:{math.degrees(true_theta):.2f}】                       \")\n",
    "\n",
    "    time.sleep(time_step)\n"
   ]
  },
  {
   "cell_type": "markdown",
   "metadata": {},
   "source": [
    "# <a id='toc6_'></a>[（おまけ）摩擦の変更](#toc0_)\n",
    "\n",
    "以下コードを実行することで、ロボットの摩擦係数を変更することができます。\n",
    "\n",
    "摩擦係数を変更した後に、上記コードをもう一度実行すると、オドメトリの推定結果が変わることが確認できます。"
   ]
  },
  {
   "cell_type": "code",
   "execution_count": null,
   "metadata": {},
   "outputs": [],
   "source": [
    "plane_lateral_friction = 1.0 # 床の摩擦係数（デフォルトは1.0）\n",
    "wheel_lateral_friction = 1.0 # ホイールの摩擦係数（デフォルトは1.0）\n",
    "\n",
    "# 地面の摩擦を変更\n",
    "pybullet.changeDynamics(plane_id, -1, lateralFriction=plane_lateral_friction)\n",
    "\n",
    "# ロボットのホイール摩擦を変更\n",
    "for wheel_link in range(pybullet.getNumJoints(car_id)):\n",
    "    pybullet.changeDynamics(car_id, wheel_link, lateralFriction=wheel_lateral_friction)"
   ]
  }
 ],
 "metadata": {
  "kernelspec": {
   "display_name": "Python 3",
   "language": "python",
   "name": "python3"
  },
  "language_info": {
   "codemirror_mode": {
    "name": "ipython",
    "version": 3
   },
   "file_extension": ".py",
   "mimetype": "text/x-python",
   "name": "python",
   "nbconvert_exporter": "python",
   "pygments_lexer": "ipython3",
   "version": "3.10.12"
  }
 },
 "nbformat": 4,
 "nbformat_minor": 2
}
