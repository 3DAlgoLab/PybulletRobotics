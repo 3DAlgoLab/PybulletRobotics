{
 "cells": [
  {
   "cell_type": "markdown",
   "metadata": {},
   "source": [
    "**Table of contents**<a id='toc0_'></a>    \n",
    "- [移動ロボットによるライントレース](#toc1_)    \n",
    "- [pybulletの起動](#toc2_)    \n",
    "- [初期設定](#toc3_)    \n",
    "- [シミュレーション実行](#toc4_)    \n",
    "- [おまけ：ライントレース用の画像生成](#toc5_)    \n",
    "\n",
    "<!-- vscode-jupyter-toc-config\n",
    "\tnumbering=false\n",
    "\tanchor=true\n",
    "\tflat=false\n",
    "\tminLevel=1\n",
    "\tmaxLevel=6\n",
    "\t/vscode-jupyter-toc-config -->\n",
    "<!-- THIS CELL WILL BE REPLACED ON TOC UPDATE. DO NOT WRITE YOUR TEXT IN THIS CELL -->"
   ]
  },
  {
   "cell_type": "markdown",
   "metadata": {},
   "source": [
    "# <a id='toc1_'></a>[移動ロボットによるライントレース](#toc0_)\n",
    "\n",
    "本notebookでは2輪の移動ロボットのボトムカメラを使用したライントレースのシミュレーションを行います。\n",
    "\n",
    "（pybulletで使用可能な関数がまとめられたマニュアルについては[こちら](https://github.com/bulletphysics/bullet3/blob/master/docs/pybullet_quickstartguide.pdf)を参照してください。）"
   ]
  },
  {
   "cell_type": "markdown",
   "metadata": {},
   "source": [
    "# <a id='toc2_'></a>[pybulletの起動](#toc0_)\n",
    "\n",
    "pybulletを起動します。"
   ]
  },
  {
   "cell_type": "code",
   "execution_count": 1,
   "metadata": {},
   "outputs": [
    {
     "name": "stderr",
     "output_type": "stream",
     "text": [
      "pybullet build time: Nov 28 2023 23:45:17\n"
     ]
    },
    {
     "name": "stdout",
     "output_type": "stream",
     "text": [
      "startThreads creating 1 threads.\n",
      "starting thread 0\n",
      "started thread 0 \n",
      "argc=2\n",
      "argv[0] = --unused\n",
      "argv[1] = --start_demo_name=Physics Server\n",
      "ExampleBrowserThreadFunc started\n",
      "X11 functions dynamically loaded using dlopen/dlsym OK!\n",
      "X11 functions dynamically loaded using dlopen/dlsym OK!\n",
      "Creating context\n",
      "Created GL 3.3 context\n",
      "Direct GLX rendering context obtained\n",
      "Making context current\n",
      "GL_VENDOR=Mesa\n",
      "GL_RENDERER=llvmpipe (LLVM 15.0.7, 256 bits)\n",
      "GL_VERSION=4.5 (Core Profile) Mesa 23.2.1-1ubuntu3.1~22.04.2\n",
      "GL_SHADING_LANGUAGE_VERSION=4.50\n",
      "pthread_getconcurrency()=0\n",
      "Version = 4.5 (Core Profile) Mesa 23.2.1-1ubuntu3.1~22.04.2\n",
      "Vendor = Mesa\n",
      "Renderer = llvmpipe (LLVM 15.0.7, 256 bits)\n",
      "b3Printf: Selected demo: Physics Server\n",
      "startThreads creating 1 threads.\n",
      "starting thread 0\n",
      "started thread 0 \n",
      "MotionThreadFunc thread started\n"
     ]
    }
   ],
   "source": [
    "import time\n",
    "import math\n",
    "import pybullet\n",
    "import pybullet_data\n",
    "physics_client = pybullet.connect(pybullet.GUI) "
   ]
  },
  {
   "cell_type": "markdown",
   "metadata": {},
   "source": [
    "# <a id='toc3_'></a>[初期設定](#toc0_)\n",
    "\n",
    "床の生成、ボックスオブジェクトの生成、ロボットの生成、カメラ位置の設定などの初期設定を行います。\n",
    "\n",
    "なお、ライントレースのコースは、`loadTexture`関数でライントレース用の画像を読み込み、`changeVisualShape`関数で床に張り付けることで生成しています。  \n",
    "\n",
    "そのため、`loadTexture`関数の引数に指定する画像を変更することで、ライントレースのコースを変更することができます。（ライントレース用の画像生成については「[おまけ：ライントレース用の画像生成](#toc3_)」を参照してください。）\n"
   ]
  },
  {
   "cell_type": "code",
   "execution_count": 2,
   "metadata": {},
   "outputs": [
    {
     "name": "stdout",
     "output_type": "stream",
     "text": [
      "ven = Mesa\n",
      "ven = Mesa\n"
     ]
    }
   ],
   "source": [
    "pybullet.resetSimulation() # シミュレーション空間をリセット\n",
    "pybullet.setAdditionalSearchPath(pybullet_data.getDataPath()) # pybulletに必要なデータへのパスを追加\n",
    "pybullet.setGravity(0.0, 0.0, -9.8) # 地球上における重力に設定\n",
    "time_step = 1./240.\n",
    "pybullet.setTimeStep(time_step)\n",
    "\n",
    "#床の読み込み\n",
    "plane_id = pybullet.loadURDF(\"plane.urdf\",  basePosition=[8.0, 4.5, 0.0], globalScaling=5.0)\n",
    "tex_uid = pybullet.loadTexture(\"../texture/line_trace_ground.png\")\n",
    "pybullet.changeVisualShape(plane_id, -1, textureUniqueId=tex_uid)\n",
    "\n",
    "# ロボットの読み込み\n",
    "car_start_pos = [0.0, 0.0, 0.1]  # 初期位置(x,y,z)を設定\n",
    "car_start_orientation = pybullet.getQuaternionFromEuler([0, 0, 0])  # 初期姿勢(roll, pitch, yaw)を設定\n",
    "car_id = pybullet.loadURDF(\"../urdf/simple_two_wheel_car.urdf\",car_start_pos, car_start_orientation)\n",
    "\n",
    "# GUIモードの際のカメラの位置などを設定\n",
    "camera_distance = 6.0\n",
    "camera_yaw = 0.0 # deg\n",
    "camera_pitch = -90.1 # deg\n",
    "# cameraTargetPosition = [4.0, 0.0, 0.0]\n",
    "camera_target_position = [2.5, 0.0, 0.0]\n",
    "pybullet.resetDebugVisualizerCamera(camera_distance, camera_yaw, camera_pitch, camera_target_position)"
   ]
  },
  {
   "cell_type": "markdown",
   "metadata": {},
   "source": [
    "# <a id='toc4_'></a>[シミュレーション実行](#toc0_)\n",
    "\n",
    "シミュレーションでは、以下の手順でライントレースを行います。\n",
    "\n",
    "1. ボトムカメラからラインの画像を取得\n",
    "2. 画像処理によりラインの重心を求める\n",
    "3. 重心の位置に応じてP制御によりロボットの両車輪の速度を調整\n",
    "   - 具体的には、「画像中心位置（x方向）」と「ラインの重心位置（x方向）」の差が大きいほど、左または右に大きく曲がるように速度を調整します。"
   ]
  },
  {
   "cell_type": "code",
   "execution_count": 3,
   "metadata": {},
   "outputs": [],
   "source": [
    "# 移動ロボットの動作に合わせて、cameraUpVectorを計算するために使用する回転行列を定義\n",
    "def Rx(theta):\n",
    "    return np.array([[1, 0, 0],\n",
    "                     [0, np.cos(theta), -np.sin(theta)],\n",
    "                     [0, np.sin(theta), np.cos(theta)]])\n",
    "\n",
    "def Ry(theta):\n",
    "    return np.array([[np.cos(theta), 0, np.sin(theta)],\n",
    "                     [0, 1, 0],\n",
    "                     [-np.sin(theta), 0, np.cos(theta)]])\n",
    "\n",
    "def Rz(theta):\n",
    "    return np.array([[np.cos(theta), -np.sin(theta), 0],\n",
    "                     [np.sin(theta), np.cos(theta), 0],\n",
    "                     [0, 0, 1]])"
   ]
  },
  {
   "cell_type": "code",
   "execution_count": 4,
   "metadata": {},
   "outputs": [],
   "source": [
    "import numpy as np\n",
    "import cv2\n",
    "\n",
    "# ロボットを初期位置にセット\n",
    "car_start_pos = [0.0, 0, 0.1]\n",
    "car_start_orientation = pybullet.getQuaternionFromEuler([0.0, 0.0, -math.pi/2])\n",
    "pybullet.resetBasePositionAndOrientation(car_id, car_start_pos, car_start_orientation)\n",
    "\n",
    "# 時刻設定\n",
    "time_length = 10000\n",
    "\n",
    "# ボトムカメラの設定\n",
    "projection_matrix = pybullet.computeProjectionMatrixFOV(fov=140.0,aspect=1.0,nearVal=0.04,farVal=100)\n",
    "    \n",
    "# リンクのインデックス\n",
    "CAMERA_IDX = 8\n",
    "CAMERA_TARGET_IDX = 9\n",
    "\n",
    "# ジョイントのインデックス\n",
    "RIGHT_WHEEL_JOINT_IDX = 0\n",
    "LEFT_WHEEL_JOINT_IDX = 1\n",
    "\n",
    "# P制御のパラメータ\n",
    "Kp = 0.1\n",
    "\n",
    "# 車輪の基本速度\n",
    "base_speed = 30\n",
    "\n",
    "# camera_up_vectorのデフォルトの方向\n",
    "camera_up_vector = np.array([0, -1, 0])\n",
    "\n",
    "for t in range (time_length):\n",
    "    # 1. ロボット下部のカメラセンサからラインの画像を取得 ##########################################################\n",
    "    # カメラリンクの位置を取得\n",
    "    camera_link_pose = pybullet.getLinkState(car_id, CAMERA_IDX)[0]\n",
    "\n",
    "    # 注視点用の仮想的なリンクの位置を取得\n",
    "    camera_target_link_pose = pybullet.getLinkState(car_id, CAMERA_TARGET_IDX)[0] \n",
    "\n",
    "    # cameraUpVectorを移動ロボットの姿勢に合わせて回転\n",
    "    mobile_robot_roll, mobile_robot_pitch, mobile_robot_yaw = pybullet.getEulerFromQuaternion(pybullet.getLinkState(car_id, CAMERA_IDX)[1])\n",
    "    R = Rz(np.deg2rad(90.0) + mobile_robot_yaw)@Ry(mobile_robot_pitch)@Rx(mobile_robot_roll)\n",
    "    rotate_camera_up_vector = R@camera_up_vector\n",
    "\n",
    "    # カメラリンク -> 注視点用の仮想的なリンク 方向のviewMatrixを取得\n",
    "    view_matrix = pybullet.computeViewMatrix(cameraEyePosition=[camera_link_pose[0], camera_link_pose[1], camera_link_pose[2]],cameraTargetPosition=[camera_target_link_pose[0], camera_target_link_pose[1], camera_target_link_pose[2]],cameraUpVector=[rotate_camera_up_vector[0], rotate_camera_up_vector[1], rotate_camera_up_vector[2]])\n",
    "    \n",
    "    # ラインの画像を取得\n",
    "    # renderer=pybullet.ER_BULLET_HARDWARE_OPENGLを指定することで、画質は下がる分高速に画像を取得できる\n",
    "    width, height, rgb_img, depth_img, seg_img = pybullet.getCameraImage(600,300, view_matrix, projection_matrix, renderer=pybullet.ER_BULLET_HARDWARE_OPENGL)\n",
    "    ############################################################################################################\n",
    "\n",
    "    # 2. 画像処理（ラインの重心位置を計算） ########################################################################\n",
    "    # 画像の2値化\n",
    "    img = np.reshape(rgb_img, (height, width, 4))  # 取得した画像を4チャンネルのnumpy配列に変換\n",
    "    img = cv2.cvtColor(img, cv2.COLOR_RGBA2RGB)  # RGBAからRGBに変換\n",
    "    gray = cv2.cvtColor(img, cv2.COLOR_RGB2GRAY) # グレースケール化\n",
    "    _, binary = cv2.threshold(gray, 128, 255, cv2.THRESH_BINARY_INV) # 2値化\n",
    "\n",
    "    # 重心を計算（参考：https://imagingsolution.net/program/python/opencv-python/opencv_moments_weight_center/）\n",
    "    moments = cv2.moments(binary) \n",
    "    if moments[\"m00\"] == 0: # ゼロ除算を防ぐための処理\n",
    "        cx = width / 2\n",
    "    else:\n",
    "        cx = moments[\"m10\"] / moments[\"m00\"]\n",
    "    ############################################################################################################\n",
    "\n",
    "    # 3.ラインの重心位置に応じて、P制御により車輪の速度を調整 #################################################\n",
    "    # P制御\n",
    "    error = cx - (width / 2) # 「画像中心（x方向）」から「ラインの重心（x方向）」までの距離。ずれが大きいほど大きく右または左に曲がる\n",
    "    output = Kp * error\n",
    "\n",
    "    # 車輪の速度を調整\n",
    "    right_speed = base_speed - output\n",
    "    left_speed = base_speed + output\n",
    "\n",
    "    # 車輪の速度を設定\n",
    "    pybullet.setJointMotorControl2(car_id, RIGHT_WHEEL_JOINT_IDX, pybullet.VELOCITY_CONTROL, targetVelocity=right_speed)\n",
    "    pybullet.setJointMotorControl2(car_id, LEFT_WHEEL_JOINT_IDX, pybullet.VELOCITY_CONTROL, targetVelocity=left_speed)\n",
    "    ############################################################################################################\n",
    "\n",
    "    # 一時刻分、シミュレーションを進める\n",
    "    pybullet.stepSimulation()\n",
    "    time.sleep(time_step)"
   ]
  },
  {
   "cell_type": "markdown",
   "metadata": {},
   "source": [
    "# <a id='toc5_'></a>[おまけ：ライントレース用の画像生成](#toc0_)\n",
    "\n",
    "以下コードを実行すると、ランダムなライントレース用のコースを生成することができます。"
   ]
  },
  {
   "cell_type": "code",
   "execution_count": null,
   "metadata": {},
   "outputs": [
    {
     "data": {
      "image/jpeg": "[encoded data removed]",
      "image/png": "[encoded data removed]",
      "text/plain": [
       "<PIL.Image.Image image mode=RGB size=800x600>"
      ]
     },
     "metadata": {},
     "output_type": "display_data"
    }
   ],
   "source": [
    "from PIL import Image, ImageDraw\n",
    "import numpy as np\n",
    "from scipy.interpolate import splprep, splev\n",
    "\n",
    "def generate_random_closed_curve_image(width, height, num_points=10, line_thickness=10, offset_range=1):\n",
    "    # ランダムな制御点を生成\n",
    "    center_x, centerY = width // 2, height // 2\n",
    "    radius = min(center_x, centerY) - line_thickness * 2\n",
    "    angles = np.linspace(0, 2 * np.pi, num_points, endpoint=False)\n",
    "    random_offsets = np.random.uniform(-offset_range, offset_range, num_points)\n",
    "    \n",
    "    points = []\n",
    "    for i, angle in enumerate(angles):\n",
    "        for _ in range(100):  # 最大試行回数を設定\n",
    "            r_offset = random_offsets[i] * radius / 4\n",
    "            new_x = center_x + (radius + r_offset) * np.cos(angle)\n",
    "            new_y = centerY + (radius + r_offset) * np.sin(angle)\n",
    "            if line_thickness <= new_x <= width - line_thickness and line_thickness <= new_y <= height - line_thickness:\n",
    "                points.append((new_x, new_y))\n",
    "                break\n",
    "        else:\n",
    "            # 制御点の生成が失敗した場合、デフォルトの安全なポイントを追加\n",
    "            new_x = center_x + radius * np.cos(angle)\n",
    "            new_y = centerY + radius * np.sin(angle)\n",
    "            points.append((new_x, new_y))\n",
    "    \n",
    "    # スタート位置を固定\n",
    "    fixed_start_point = (center_x + radius * np.cos(0), centerY + radius * np.sin(0))\n",
    "    points[0] = fixed_start_point\n",
    "    \n",
    "    # 曲線を閉じるために最初の点を最後に追加\n",
    "    points.append(points[0])\n",
    "    \n",
    "    # 制御点をスムージング\n",
    "    points = np.array(points)\n",
    "    tck, u = splprep(points.T, s=0, per=True)\n",
    "    u_new = np.linspace(u.min(), u.max(), num_points * 10)\n",
    "    smooth_points = splev(u_new, tck)\n",
    "    \n",
    "    # 画像を作成\n",
    "    image = Image.new('RGB', (width, height), 'white')\n",
    "    draw = ImageDraw.Draw(image)\n",
    "    \n",
    "    # スムージングされた曲線を描画\n",
    "    smooth_points = list(zip(smooth_points[0], smooth_points[1]))\n",
    "    draw.line(smooth_points, fill='black', width=line_thickness)\n",
    "    \n",
    "    return image\n",
    "\n",
    "# 画像のサイズと線の太さを指定\n",
    "width, height, line_thickness = 800, 600, 3\n",
    "offset_range = 1.0  # オフセットの範囲を調整\n",
    "image = generate_random_closed_curve_image(width, height, num_points=10, line_thickness=line_thickness, offset_range=offset_range)\n",
    "\n",
    "# 画像を保存\n",
    "image.save('../texture/random_line_trace_ground.png')\n",
    "\n",
    "# 画像を表示\n",
    "image.show()\n"
   ]
  }
 ],
 "metadata": {
  "kernelspec": {
   "display_name": "Python 3",
   "language": "python",
   "name": "python3"
  },
  "language_info": {
   "codemirror_mode": {
    "name": "ipython",
    "version": 3
   },
   "file_extension": ".py",
   "mimetype": "text/x-python",
   "name": "python",
   "nbconvert_exporter": "python",
   "pygments_lexer": "ipython3",
   "version": "3.10.12"
  }
 },
 "nbformat": 4,
 "nbformat_minor": 2
}
